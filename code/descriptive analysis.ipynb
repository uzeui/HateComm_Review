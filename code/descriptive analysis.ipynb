{
 "cells": [
  {
   "cell_type": "code",
   "execution_count": 1,
   "id": "68d810a0-af1c-43a0-849c-acff2f2a4392",
   "metadata": {},
   "outputs": [],
   "source": [
    "import pandas as pd\n",
    "import matplotlib.pyplot as plt\n",
    "import seaborn as sns\n",
    "import re\n",
    "\n",
    "%matplotlib inline\n",
    "\n",
    "hatecomm = pd.read_csv(\"Hate Review_cleaned_v16.csv\")\n",
    "#hatecomm.head()"
   ]
  },
  {
   "cell_type": "code",
   "execution_count": 2,
   "id": "561164f1-c865-4a3f-a984-4b2781c730cb",
   "metadata": {},
   "outputs": [],
   "source": [
    "hatecomm_1 = hatecomm.loc[(hatecomm['repeat check'] == 'No') \n",
    "   & (hatecomm['reaffirm'] == 'Yes') \n",
    "    & (hatecomm['Accessibility'] == 'Yes') \n",
    "    & (hatecomm['Filter dataset'] == 'Yes')]\n",
    "hatecomm_2 = hatecomm.loc[(hatecomm['repeat check'] == 'No') \n",
    "   & (hatecomm['reaffirm'] == 'Yes') \n",
    "    & (hatecomm['Accessibility'] == 'Yes') \n",
    "    & (hatecomm['Filter dataset'] == 'Yes')\n",
    "    &(hatecomm['availability of data'] == 'Yes')]\n",
    "hatecomm_3 = hatecomm.loc[(hatecomm['repeat check'] == 'No') \n",
    "   & (hatecomm['reaffirm'] == 'Yes') \n",
    "    & (hatecomm['Accessibility'] == 'Yes') \n",
    "    & (hatecomm['Filter dataset'] == 'Yes')\n",
    "    &(hatecomm['availability of data'] == 'Yes')\n",
    "    &(hatecomm['verification of the way to access'] == 'Yes')]\n",
    "\n",
    "#Write the filtered data to a new csv file\n",
    "hatecomm_1.to_csv('HateReview_1.csv') \n",
    "hatecomm_2.to_csv('HateReview_2.csv')\n",
    "hatecomm_3.to_csv('HateReview_3.csv')\n",
    "\n",
    "dh_1 = pd.read_csv(\"HateReview_1.csv\")\n",
    "dh_2 = pd.read_csv(\"HateReview_2.csv\")\n",
    "dh_3 = pd.read_csv(\"HateReview_3.csv\")"
   ]
  },
  {
   "cell_type": "code",
   "execution_count": 3,
   "id": "d0600280-722e-45b3-9968-aeaf0546b25a",
   "metadata": {
    "jupyter": {
     "outputs_hidden": true
    },
    "tags": []
   },
   "outputs": [],
   "source": [
    "#hatecomm_1.info()\n",
    "#hatecomm_2.info()\n",
    "#dh_3.info()"
   ]
  },
  {
   "cell_type": "code",
   "execution_count": 4,
   "id": "89877b24-5dd6-4dad-9b98-7da89a5613ed",
   "metadata": {
    "jupyter": {
     "outputs_hidden": true
    },
    "tags": []
   },
   "outputs": [],
   "source": [
    "#sns.set(style=\"whitegrid\")\n",
    "#plt.figure(figsize=(10,8))\n",
    "#ax = sns.boxplot(y='citations', data=dh_3, orient=\"v\")"
   ]
  },
  {
   "cell_type": "code",
   "execution_count": 5,
   "id": "50c027eb-7891-415e-a4d1-afa977bb89cf",
   "metadata": {},
   "outputs": [
    {
     "name": "stdout",
     "output_type": "stream",
     "text": [
      "71.13496932515338\n",
      "17.0\n"
     ]
    }
   ],
   "source": [
    "average = dh_3['citations'].mean()\n",
    "print(average)\n",
    "\n",
    "med = dh_3['citations'].median()\n",
    "print(med)"
   ]
  },
  {
   "cell_type": "code",
   "execution_count": 6,
   "id": "57abff5e-fe7f-4dc4-a32d-7cfbd9d31b79",
   "metadata": {
    "jupyter": {
     "outputs_hidden": true
    },
    "tags": []
   },
   "outputs": [
    {
     "name": "stderr",
     "output_type": "stream",
     "text": [
      "/Users/zehuiyu/opt/anaconda3/lib/python3.9/site-packages/seaborn/distributions.py:2619: FutureWarning: `distplot` is a deprecated function and will be removed in a future version. Please adapt your code to use either `displot` (a figure-level function with similar flexibility) or `histplot` (an axes-level function for histograms).\n",
      "  warnings.warn(msg, FutureWarning)\n"
     ]
    },
    {
     "data": {
      "text/plain": [
       "<AxesSubplot:xlabel='citations'>"
      ]
     },
     "execution_count": 6,
     "metadata": {},
     "output_type": "execute_result"
    },
    {
     "data": {
      "image/png": "[encoded data removed]",
      "text/plain": [
       "<Figure size 1008x576 with 1 Axes>"
      ]
     },
     "metadata": {
      "needs_background": "light"
     },
     "output_type": "display_data"
    }
   ],
   "source": [
    "filter_data = dh_1.dropna(subset=['citations'])\n",
    "plt.figure(figsize=(14,8))\n",
    "sns.distplot(filter_data['citations'], kde=False)"
   ]
  },
  {
   "cell_type": "code",
   "execution_count": 7,
   "id": "c879780c-2a07-4ee5-a67f-588a2f262f77",
   "metadata": {},
   "outputs": [
    {
     "data": {
      "text/plain": [
       "Researcher location\n",
       "USA             61\n",
       "India           30\n",
       "UK              14\n",
       "Italy           13\n",
       "Bangladesh      10\n",
       "                ..\n",
       "Peru             1\n",
       "Ethiopia         1\n",
       "USA, Ireland     1\n",
       "USA, India       1\n",
       "USA, Qatar       1\n",
       "Name: count, Length: 126, dtype: int64"
      ]
     },
     "execution_count": 7,
     "metadata": {},
     "output_type": "execute_result"
    }
   ],
   "source": [
    "dh_1['Researcher location'].value_counts() "
   ]
  },
  {
   "cell_type": "code",
   "execution_count": 612,
   "id": "6b928239-948b-41b3-be5f-68efdb424a44",
   "metadata": {},
   "outputs": [
    {
     "data": {
      "text/plain": [
       "1.313782991202346"
      ]
     },
     "execution_count": 612,
     "metadata": {},
     "output_type": "execute_result"
    }
   ],
   "source": [
    "#Number of countries Involved in the research\n",
    "hacom_1['rl'] = hacom_1['Researcher location'].str.count(\",\") + 1\n",
    "hacom_1['rl'].mean()"
   ]
  },
  {
   "cell_type": "code",
   "execution_count": 613,
   "id": "d5c93607-62e9-4314-9b3a-c709ac2da0b5",
   "metadata": {},
   "outputs": [
    {
     "data": {
      "text/plain": [
       "rl\n",
       "1    256\n",
       "2     68\n",
       "3     12\n",
       "4      5\n",
       "Name: count, dtype: int64"
      ]
     },
     "execution_count": 613,
     "metadata": {},
     "output_type": "execute_result"
    }
   ],
   "source": [
    "hacom_1['rl'].value_counts()"
   ]
  },
  {
   "cell_type": "code",
   "execution_count": 614,
   "id": "c64fa33a-16bb-42f6-b73e-01cbc97e7bc3",
   "metadata": {},
   "outputs": [
    {
     "data": {
      "text/plain": [
       "Researcher location\n",
       "USA             94\n",
       "India           46\n",
       "UK              39\n",
       "Germany         18\n",
       "Italy           16\n",
       "France          13\n",
       "Saudi Arabia    12\n",
       "Spain           12\n",
       "Qatar           12\n",
       "Bangladesh      12\n",
       "Indonesia       11\n",
       "Canada          11\n",
       "Ireland         10\n",
       "Russia          10\n",
       "Pakistan         9\n",
       "China            8\n",
       "Turkey           7\n",
       "Greece           7\n",
       "Mexico           7\n",
       "South Korea      6\n",
       "Name: count, dtype: int64"
      ]
     },
     "execution_count": 614,
     "metadata": {},
     "output_type": "execute_result"
    }
   ],
   "source": [
    "rlcount = hacom_1['Researcher location'].str.split(', ').explode().value_counts()\n",
    "rlcount[:20] "
   ]
  },
  {
   "cell_type": "code",
   "execution_count": 615,
   "id": "57920c33",
   "metadata": {},
   "outputs": [
    {
     "data": {
      "text/plain": [
       "59"
      ]
     },
     "execution_count": 615,
     "metadata": {},
     "output_type": "execute_result"
    }
   ],
   "source": [
    "rlcount.size"
   ]
  },
  {
   "cell_type": "code",
   "execution_count": 616,
   "id": "9d1a4678",
   "metadata": {},
   "outputs": [
    {
     "data": {
      "text/plain": [
       "Researcher location  Number of new datasets\n",
       "Brazil, UK           1                         1\n",
       "Brazil, USA          2                         1\n",
       "Bulgaria, Qatar      1                         1\n",
       "Canada               1                         3\n",
       "                     10                        1\n",
       "Canada, Brazil       1                         1\n",
       "Canada, USA          1                         1\n",
       "Chile                1                         1\n",
       "Chile, Spain         2                         1\n",
       "China                1                         3\n",
       "dtype: int64"
      ]
     },
     "execution_count": 616,
     "metadata": {},
     "output_type": "execute_result"
    }
   ],
   "source": [
    "hacom_1.groupby(['Researcher location', 'Number of new datasets']).size()[10:20]"
   ]
  },
  {
   "cell_type": "code",
   "execution_count": 617,
   "id": "b89d8c83-2060-491a-ba9b-2eac09ef2c74",
   "metadata": {
    "tags": []
   },
   "outputs": [
    {
     "data": {
      "text/plain": [
       "Language\n",
       "English             174\n",
       "Arabic               25\n",
       "Hindi-English        14\n",
       "Bengali              14\n",
       "Indonesian           10\n",
       "Russian               9\n",
       "Spanish               9\n",
       "Urdu                  8\n",
       "French                6\n",
       "Chinese               5\n",
       "Portuguese            4\n",
       "German                4\n",
       "Italian               4\n",
       "Turkish               4\n",
       "Korean                3\n",
       "English, Russian      2\n",
       "Kazakh                2\n",
       "English, Hindi        2\n",
       "Vietnamese            2\n",
       "Tunisian              2\n",
       "Name: count, dtype: int64"
      ]
     },
     "execution_count": 617,
     "metadata": {},
     "output_type": "execute_result"
    }
   ],
   "source": [
    "hacom_1['Language'].value_counts()[:20] "
   ]
  },
  {
   "cell_type": "code",
   "execution_count": 618,
   "id": "1cb98b3e",
   "metadata": {},
   "outputs": [
    {
     "data": {
      "text/plain": [
       "1.1583577712609971"
      ]
     },
     "execution_count": 618,
     "metadata": {},
     "output_type": "execute_result"
    }
   ],
   "source": [
    "#Number of language in the dataset\n",
    "hacom_1['la'] = hacom_1['Language'].str.count(\", \") + 1\n",
    "hacom_1['la'].mean()"
   ]
  },
  {
   "cell_type": "code",
   "execution_count": 619,
   "id": "e656cda9-691c-48c8-953d-d9bcb2db489f",
   "metadata": {},
   "outputs": [
    {
     "data": {
      "text/plain": [
       "la\n",
       "1     315\n",
       "2      15\n",
       "3       5\n",
       "5       3\n",
       "6       1\n",
       "10      1\n",
       "4       1\n",
       "Name: count, dtype: int64"
      ]
     },
     "execution_count": 619,
     "metadata": {},
     "output_type": "execute_result"
    }
   ],
   "source": [
    "hacom_1['la'].value_counts()"
   ]
  },
  {
   "cell_type": "code",
   "execution_count": 620,
   "id": "cb9193a5",
   "metadata": {},
   "outputs": [
    {
     "data": {
      "text/plain": [
       "la  Number of new datasets\n",
       "1   1                         246\n",
       "    2                          40\n",
       "    3                          14\n",
       "    4                           9\n",
       "    5                           3\n",
       "    6                           1\n",
       "    8                           1\n",
       "    10                          1\n",
       "2   1                           9\n",
       "    2                           3\n",
       "    3                           2\n",
       "    4                           1\n",
       "3   1                           4\n",
       "    2                           1\n",
       "4   2                           1\n",
       "5   1                           1\n",
       "    4                           1\n",
       "    5                           1\n",
       "6   5                           1\n",
       "10  1                           1\n",
       "dtype: int64"
      ]
     },
     "execution_count": 620,
     "metadata": {},
     "output_type": "execute_result"
    }
   ],
   "source": [
    "hacom_1.groupby(['la', 'Number of new datasets']).size()"
   ]
  },
  {
   "cell_type": "code",
   "execution_count": 621,
   "id": "94323b0d-f3f4-4881-b7aa-bac7daead5ff",
   "metadata": {},
   "outputs": [
    {
     "data": {
      "text/plain": [
       "Language\n",
       "English            197\n",
       "Arabic              28\n",
       "Bengali             15\n",
       "Hindi-English       14\n",
       "Spanish             13\n",
       "French              12\n",
       "Russian             12\n",
       "Indonesian          11\n",
       "Urdu                10\n",
       "German               8\n",
       "Italian              7\n",
       "Portuguese           6\n",
       "Chinese              6\n",
       "Turkish              5\n",
       "Hindi                4\n",
       "Dutch                4\n",
       "Kannada-English      3\n",
       "Korean               3\n",
       "Greek                3\n",
       "Vietnamese           2\n",
       "Name: count, dtype: int64"
      ]
     },
     "execution_count": 621,
     "metadata": {},
     "output_type": "execute_result"
    }
   ],
   "source": [
    "#Extract language \n",
    "language_count = hacom_1['Language'].str.split(', ').explode().value_counts()\n",
    "language_count[:20] "
   ]
  },
  {
   "cell_type": "code",
   "execution_count": 18,
   "id": "b146ad7f-dfa0-44f0-bd56-07a0ed76433d",
   "metadata": {},
   "outputs": [
    {
     "data": {
      "text/plain": [
       "49"
      ]
     },
     "execution_count": 18,
     "metadata": {},
     "output_type": "execute_result"
    }
   ],
   "source": [
    "language_count.count()"
   ]
  },
  {
   "cell_type": "code",
   "execution_count": 622,
   "id": "1ab38574-0e02-492e-b72c-cc6b0f6f9cd8",
   "metadata": {},
   "outputs": [
    {
     "data": {
      "text/plain": [
       "topical focus\n",
       "hate speech                   77\n",
       "cyberbullying                 34\n",
       "abusiveness                   25\n",
       "offensiveness                 23\n",
       "toxicity                      21\n",
       "sexism                         7\n",
       "misogyny                       5\n",
       "racism                         5\n",
       "aggressiveness                 4\n",
       "harassment                     3\n",
       "offensiveness, hate speech     3\n",
       "trolling                       3\n",
       "hate speech, offensiveness     3\n",
       "political trolling             2\n",
       "abusive language               2\n",
       "Name: count, dtype: int64"
      ]
     },
     "execution_count": 622,
     "metadata": {},
     "output_type": "execute_result"
    }
   ],
   "source": [
    "tf=hacom_1['topical focus'].str.lower()\n",
    "tf.value_counts()[:15]"
   ]
  },
  {
   "cell_type": "code",
   "execution_count": 623,
   "id": "22b2b32c-7137-4da8-a08e-7e34141b3a71",
   "metadata": {},
   "outputs": [
    {
     "data": {
      "text/plain": [
       "topical focus\n",
       "hate speech       97\n",
       "cyberbullying     40\n",
       "abusiveness       40\n",
       "offensiveness     39\n",
       "toxicity          27\n",
       "sexism            10\n",
       "misogyny           7\n",
       "racism             7\n",
       "aggressiveness     7\n",
       "extremism          5\n",
       "Name: count, dtype: int64"
      ]
     },
     "execution_count": 623,
     "metadata": {},
     "output_type": "execute_result"
    }
   ],
   "source": [
    "#Extract topic \n",
    "topic_count = tf.str.split(', ').explode().value_counts()\n",
    "topic_count[:10]"
   ]
  },
  {
   "cell_type": "code",
   "execution_count": 624,
   "id": "be29bba8-7dce-4fe6-8462-74af0665f9f1",
   "metadata": {},
   "outputs": [
    {
     "data": {
      "text/plain": [
       "topical focus\n",
       "1    278\n",
       "2     52\n",
       "3      8\n",
       "9      1\n",
       "5      1\n",
       "4      1\n",
       "Name: count, dtype: int64"
      ]
     },
     "execution_count": 624,
     "metadata": {},
     "output_type": "execute_result"
    }
   ],
   "source": [
    "(tf.str.count(\", \") + 1).value_counts()"
   ]
  },
  {
   "cell_type": "code",
   "execution_count": 625,
   "id": "629f8c66-17ca-4c5c-9c76-97e65065df2c",
   "metadata": {},
   "outputs": [
    {
     "data": {
      "text/plain": [
       "Data source\n",
       "Twitter              138\n",
       "YouTube               23\n",
       "Reddit                15\n",
       "Facebook              15\n",
       "Twitter, Facebook      6\n",
       "Wikipedia              6\n",
       "Facebook, YouTube      4\n",
       "Facebook, Twitter      4\n",
       "Gab                    3\n",
       "Vkontakte              3\n",
       "Name: count, dtype: int64"
      ]
     },
     "execution_count": 625,
     "metadata": {},
     "output_type": "execute_result"
    }
   ],
   "source": [
    "hacom_1['Data source'].value_counts()[:10]"
   ]
  },
  {
   "cell_type": "code",
   "execution_count": 626,
   "id": "1cce9240-9799-42a3-bbf0-213ca974cc27",
   "metadata": {},
   "outputs": [
    {
     "data": {
      "text/plain": [
       "Data source\n",
       "Twitter       186\n",
       "YouTube        42\n",
       "Facebook       42\n",
       "Reddit         29\n",
       "Wikipedia      17\n",
       "Instagram      12\n",
       "Gab             9\n",
       "Stormfront      5\n",
       "BBC             3\n",
       "WhatsApp        3\n",
       "Name: count, dtype: int64"
      ]
     },
     "execution_count": 626,
     "metadata": {},
     "output_type": "execute_result"
    }
   ],
   "source": [
    "#Extract source \n",
    "source_count = hacom_1['Data source'].str.split(', ').explode().value_counts()\n",
    "source_count[:10] "
   ]
  },
  {
   "cell_type": "code",
   "execution_count": 627,
   "id": "f747535d-73e3-4b81-8b65-a54d51ea834c",
   "metadata": {},
   "outputs": [
    {
     "data": {
      "text/plain": [
       "Data source\n",
       "1.0     250\n",
       "2.0      48\n",
       "3.0      20\n",
       "4.0      13\n",
       "6.0       4\n",
       "5.0       3\n",
       "17.0      1\n",
       "13.0      1\n",
       "Name: count, dtype: int64"
      ]
     },
     "execution_count": 627,
     "metadata": {},
     "output_type": "execute_result"
    }
   ],
   "source": [
    "(hacom_1['Data source'].str.count(\", \") + 1).value_counts()"
   ]
  },
  {
   "cell_type": "code",
   "execution_count": 628,
   "id": "ad80151a-b27f-4a86-a404-a109f665a83d",
   "metadata": {},
   "outputs": [
    {
     "data": {
      "text/plain": [
       "Number of new datasets\n",
       "1     261\n",
       "2      45\n",
       "3      16\n",
       "4      11\n",
       "5       5\n",
       "6       1\n",
       "10      1\n",
       "8       1\n",
       "Name: count, dtype: int64"
      ]
     },
     "execution_count": 628,
     "metadata": {},
     "output_type": "execute_result"
    }
   ],
   "source": [
    "hacom_1['Number of new datasets'].value_counts()"
   ]
  },
  {
   "cell_type": "code",
   "execution_count": 26,
   "id": "a7be1465",
   "metadata": {},
   "outputs": [
    {
     "data": {
      "text/plain": [
       "341"
      ]
     },
     "execution_count": 26,
     "metadata": {},
     "output_type": "execute_result"
    }
   ],
   "source": [
    "sum(dh_1['Number of new datasets'].value_counts())"
   ]
  },
  {
   "cell_type": "code",
   "execution_count": 27,
   "id": "086b736a-1e03-4ef7-8775-78f093b4dc0d",
   "metadata": {},
   "outputs": [
    {
     "data": {
      "text/plain": [
       "341"
      ]
     },
     "execution_count": 27,
     "metadata": {},
     "output_type": "execute_result"
    }
   ],
   "source": [
    "sum(dh_1['Number of new datasets'].value_counts())"
   ]
  },
  {
   "cell_type": "code",
   "execution_count": 28,
   "id": "3d1663d1-f51a-4099-9c55-e531dddfd2bb",
   "metadata": {},
   "outputs": [
    {
     "data": {
      "text/plain": [
       "Researcher location         Language  \n",
       "Australia                   English        2\n",
       "Australia, China, Pakistan  English        1\n",
       "Bangladesh                  Bengali       10\n",
       "Bangladesh, Australia       Bengali        1\n",
       "                            English        1\n",
       "                                          ..\n",
       "USA, Nepal                  Nepali         1\n",
       "USA, Qatar                  English        1\n",
       "USA, UK                     Marathi        1\n",
       "United Arab Emirates        Arabic         1\n",
       "Vietnam                     Vietnamese     2\n",
       "Length: 174, dtype: int64"
      ]
     },
     "execution_count": 28,
     "metadata": {},
     "output_type": "execute_result"
    }
   ],
   "source": [
    "# Multi-column frequency count\n",
    "dh_1.groupby(['Researcher location', 'Language']).size()"
   ]
  },
  {
   "cell_type": "code",
   "execution_count": 29,
   "id": "86e61cf6-b06a-4942-bb4f-4b40c1e197ce",
   "metadata": {},
   "outputs": [
    {
     "data": {
      "text/plain": [
       "year  citations\n",
       "2012  658.0        1\n",
       "2013  47.0         1\n",
       "      168.0        1\n",
       "2014  33.0         1\n",
       "      39.0         1\n",
       "                  ..\n",
       "2022  5.0          2\n",
       "      6.0          1\n",
       "      8.0          1\n",
       "      18.0         1\n",
       "      27.0         1\n",
       "Length: 187, dtype: int64"
      ]
     },
     "execution_count": 29,
     "metadata": {},
     "output_type": "execute_result"
    }
   ],
   "source": [
    "#Get the publication year to a new column\n",
    "dh_1['year'] = dh_1['reference'].str.extract('(\\d+)')\n",
    "dh_1.groupby(['year','citations']).size()"
   ]
  },
  {
   "cell_type": "code",
   "execution_count": 30,
   "id": "ff7fbc4e-9a92-4aa8-9734-c614cd0150c6",
   "metadata": {},
   "outputs": [
    {
     "data": {
      "text/plain": [
       "year\n",
       "2021    108\n",
       "2020     95\n",
       "2019     44\n",
       "2018     36\n",
       "2022     27\n",
       "2017     16\n",
       "2016      8\n",
       "2014      2\n",
       "2015      2\n",
       "2013      2\n",
       "2012      1\n",
       "Name: count, dtype: int64"
      ]
     },
     "execution_count": 30,
     "metadata": {},
     "output_type": "execute_result"
    }
   ],
   "source": [
    "dh_1['year'].value_counts()"
   ]
  },
  {
   "cell_type": "code",
   "execution_count": 31,
   "id": "ccdddab1",
   "metadata": {},
   "outputs": [
    {
     "data": {
      "text/plain": [
       "year  Number of new datasets\n",
       "2012  2.0                        1\n",
       "2013  1.0                        2\n",
       "2014  1.0                        1\n",
       "      2.0                        1\n",
       "2015  1.0                        1\n",
       "      2.0                        1\n",
       "2016  1.0                        5\n",
       "      2.0                        1\n",
       "      3.0                        2\n",
       "2017  1.0                       10\n",
       "      2.0                        2\n",
       "      3.0                        2\n",
       "      4.0                        2\n",
       "2018  1.0                       27\n",
       "      2.0                        6\n",
       "      3.0                        3\n",
       "2019  1.0                       36\n",
       "      2.0                        3\n",
       "      3.0                        3\n",
       "      4.0                        1\n",
       "      10.0                       1\n",
       "2020  1.0                       79\n",
       "      2.0                        6\n",
       "      3.0                        3\n",
       "      4.0                        4\n",
       "      5.0                        3\n",
       "2021  1.0                       79\n",
       "      2.0                       20\n",
       "      3.0                        3\n",
       "      4.0                        2\n",
       "      5.0                        2\n",
       "      6.0                        1\n",
       "      8.0                        1\n",
       "2022  1.0                       21\n",
       "      2.0                        4\n",
       "      4.0                        2\n",
       "dtype: int64"
      ]
     },
     "execution_count": 31,
     "metadata": {},
     "output_type": "execute_result"
    }
   ],
   "source": [
    "dh_1.groupby(['year','Number of new datasets']).size()"
   ]
  },
  {
   "cell_type": "code",
   "execution_count": 32,
   "id": "701ce1c2",
   "metadata": {},
   "outputs": [
    {
     "data": {
      "text/plain": [
       "year  rl\n",
       "2012  1      1\n",
       "2013  1      2\n",
       "2014  1      2\n",
       "2015  1      1\n",
       "      2      1\n",
       "2016  1      7\n",
       "      2      1\n",
       "2017  1     10\n",
       "      2      5\n",
       "      4      1\n",
       "2018  1     29\n",
       "      2      5\n",
       "      3      1\n",
       "      4      1\n",
       "2019  1     35\n",
       "      2      7\n",
       "      3      2\n",
       "2020  1     71\n",
       "      2     20\n",
       "      3      3\n",
       "      4      1\n",
       "2021  1     79\n",
       "      2     22\n",
       "      3      5\n",
       "      4      2\n",
       "2022  1     19\n",
       "      2      7\n",
       "      3      1\n",
       "dtype: int64"
      ]
     },
     "execution_count": 32,
     "metadata": {},
     "output_type": "execute_result"
    }
   ],
   "source": [
    "dh_1.groupby(['year','rl']).size()"
   ]
  },
  {
   "cell_type": "code",
   "execution_count": 33,
   "id": "ca8d2921",
   "metadata": {},
   "outputs": [
    {
     "data": {
      "text/plain": [
       "Number of new datasets  rl\n",
       "1.0                     1     188\n",
       "                        2      52\n",
       "                        3       9\n",
       "                        4       3\n",
       "2.0                     1      29\n",
       "                        2      10\n",
       "                        3       1\n",
       "                        4       1\n",
       "3.0                     1      11\n",
       "                        2       2\n",
       "                        3       1\n",
       "4.0                     1       9\n",
       "                        2       1\n",
       "                        4       1\n",
       "5.0                     1       3\n",
       "                        2       1\n",
       "                        3       1\n",
       "6.0                     1       1\n",
       "8.0                     1       1\n",
       "10.0                    1       1\n",
       "dtype: int64"
      ]
     },
     "execution_count": 33,
     "metadata": {},
     "output_type": "execute_result"
    }
   ],
   "source": [
    "dh_4 = dh_1.loc[(dh_1['year'] >= '2017')]\n",
    "dh_4.groupby(['Number of new datasets','rl']).size() #115multi country=64+24+9+8+10=115"
   ]
  },
  {
   "cell_type": "code",
   "execution_count": 34,
   "id": "389d5cec",
   "metadata": {},
   "outputs": [
    {
     "data": {
      "text/plain": [
       "326"
      ]
     },
     "execution_count": 34,
     "metadata": {},
     "output_type": "execute_result"
    }
   ],
   "source": [
    "dh_4['Researcher location'].size"
   ]
  },
  {
   "cell_type": "code",
   "execution_count": 35,
   "id": "09f31ff6",
   "metadata": {
    "collapsed": true
   },
   "outputs": [
    {
     "data": {
      "text/plain": [
       "Language\n",
       "English              183\n",
       "Arabic                28\n",
       "Bengali               15\n",
       "Hindi-English         14\n",
       "Spanish               13\n",
       "French                12\n",
       "Russian               12\n",
       "Indonesian            11\n",
       "Urdu                  10\n",
       "German                 8\n",
       "Italian                7\n",
       "Portuguese             6\n",
       "Chinese                6\n",
       "Turkish                5\n",
       "Hindi                  4\n",
       "Kannada-English        3\n",
       "Korean                 3\n",
       "Dutch                  3\n",
       "Greek                  3\n",
       "Vietnamese             2\n",
       "Tunisian               2\n",
       "Kazakh                 2\n",
       "Tamil-English          2\n",
       "Serbian                1\n",
       "Polish                 1\n",
       "Pashto                 1\n",
       "Maltese                1\n",
       "Sesotho-English        1\n",
       "IsiZulu-English        1\n",
       "Xhosa                  1\n",
       "Persian                1\n",
       "Afrikaans-English      1\n",
       "Finnish                1\n",
       "Amharic                1\n",
       "Maltenglish            1\n",
       "Sinhala                1\n",
       "Japanese               1\n",
       "Odia                   1\n",
       "Marathi                1\n",
       "Bulgarian              1\n",
       "Afaan Oromoo           1\n",
       "Swedish                1\n",
       "Malay                  1\n",
       "Nepali                 1\n",
       "Danish                 1\n",
       "Malayalam-English      1\n",
       "Croatian               1\n",
       "Albanian               1\n",
       "Other                  1\n",
       "Name: count, dtype: int64"
      ]
     },
     "execution_count": 35,
     "metadata": {},
     "output_type": "execute_result"
    }
   ],
   "source": [
    "dh_4['Language'].str.split(', ').explode().value_counts() #326-183=143"
   ]
  },
  {
   "cell_type": "code",
   "execution_count": 36,
   "id": "62569812",
   "metadata": {
    "collapsed": true
   },
   "outputs": [
    {
     "data": {
      "text/plain": [
       "Researcher location\n",
       "USA                     85\n",
       "India                   45\n",
       "UK                      38\n",
       "Germany                 17\n",
       "Italy                   16\n",
       "France                  13\n",
       "Saudi Arabia            12\n",
       "Spain                   12\n",
       "Qatar                   12\n",
       "Bangladesh              12\n",
       "Indonesia               11\n",
       "Canada                  11\n",
       "Russia                  10\n",
       "Ireland                  9\n",
       "Pakistan                 9\n",
       "China                    7\n",
       "Turkey                   7\n",
       "Greece                   7\n",
       "Australia                6\n",
       "South Korea              6\n",
       "Mexico                   6\n",
       "Finland                  5\n",
       "Brazil                   5\n",
       "Netherlands              4\n",
       "Jordan                   3\n",
       "Malaysia                 3\n",
       "Hong Kong SAR            3\n",
       "Belgium                  3\n",
       "Egypt                    3\n",
       "Sweden                   3\n",
       "Denmark                  3\n",
       "Tunisia                  3\n",
       "Ecuador                  2\n",
       "Ethiopia                 2\n",
       "Vietnam                  2\n",
       "Bulgaria                 2\n",
       "Chile                    2\n",
       "Taiwan                   2\n",
       "Kazakhstan               2\n",
       "Nigeria                  2\n",
       "Sri Lanka                2\n",
       "Romania                  2\n",
       "Norway                   2\n",
       "Israel                   2\n",
       "Cyprus                   2\n",
       "Croatia                  2\n",
       "South Africa             2\n",
       "Colombia                 1\n",
       "Thailand                 1\n",
       "Austria                  1\n",
       "Serbia                   1\n",
       "Saudi Arabia             1\n",
       "Malta                    1\n",
       "Japan                    1\n",
       "Peru                     1\n",
       "Nepal                    1\n",
       "Iraq                     1\n",
       "Portugal                 1\n",
       "United Arab Emirates     1\n",
       "Name: count, dtype: int64"
      ]
     },
     "execution_count": 36,
     "metadata": {},
     "output_type": "execute_result"
    }
   ],
   "source": [
    "dh_4['Researcher location'].str.split(', ').explode().value_counts()#326-85-45-38-17-16=326-201=125"
   ]
  },
  {
   "cell_type": "code",
   "execution_count": 37,
   "id": "5286ab55",
   "metadata": {},
   "outputs": [
    {
     "data": {
      "text/plain": [
       "Researcher location         Number of new datasets\n",
       "Australia                   1.0                       2\n",
       "Australia, China, Pakistan  1.0                       1\n",
       "Bangladesh                  1.0                       8\n",
       "                            3.0                       2\n",
       "Bangladesh, Australia       1.0                       2\n",
       "                                                     ..\n",
       "USA, Nepal                  1.0                       1\n",
       "USA, Qatar                  1.0                       1\n",
       "USA, UK                     1.0                       1\n",
       "United Arab Emirates        2.0                       1\n",
       "Vietnam                     1.0                       2\n",
       "Length: 157, dtype: int64"
      ]
     },
     "execution_count": 37,
     "metadata": {},
     "output_type": "execute_result"
    }
   ],
   "source": [
    "dh_4.groupby(['Researcher location','Number of new datasets']).size()"
   ]
  },
  {
   "cell_type": "code",
   "execution_count": 38,
   "id": "0222e1ce",
   "metadata": {},
   "outputs": [
    {
     "data": {
      "text/plain": [
       "rl  Number of new datasets\n",
       "1   1.0                       8\n",
       "    2.0                       4\n",
       "    3.0                       1\n",
       "2   1.0                       1\n",
       "    3.0                       1\n",
       "dtype: int64"
      ]
     },
     "execution_count": 38,
     "metadata": {},
     "output_type": "execute_result"
    }
   ],
   "source": [
    "dh_5 = dh_1.loc[(dh_1['year'] < '2017')]\n",
    "dh_5.groupby(['rl','Number of new datasets']).size() #multi country\n"
   ]
  },
  {
   "cell_type": "code",
   "execution_count": 39,
   "id": "e742ac24",
   "metadata": {},
   "outputs": [
    {
     "data": {
      "text/plain": [
       "Researcher location  Number of new datasets\n",
       "Belgium              3.0                       1\n",
       "China                2.0                       1\n",
       "Denmark              1.0                       1\n",
       "Germany, Ireland     1.0                       1\n",
       "Mexico               2.0                       1\n",
       "UK                   2.0                       1\n",
       "USA                  1.0                       7\n",
       "                     2.0                       1\n",
       "USA, India           3.0                       1\n",
       "dtype: int64"
      ]
     },
     "execution_count": 39,
     "metadata": {},
     "output_type": "execute_result"
    }
   ],
   "source": [
    "dh_5.groupby(['Researcher location','Number of new datasets']).size() #multi country"
   ]
  },
  {
   "cell_type": "code",
   "execution_count": 40,
   "id": "104b2d27",
   "metadata": {},
   "outputs": [
    {
     "data": {
      "text/plain": [
       "15"
      ]
     },
     "execution_count": 40,
     "metadata": {},
     "output_type": "execute_result"
    }
   ],
   "source": [
    "dh_5['Researcher location'].size"
   ]
  },
  {
   "cell_type": "code",
   "execution_count": 41,
   "id": "0e2c964b",
   "metadata": {},
   "outputs": [
    {
     "data": {
      "text/plain": [
       "Researcher location\n",
       "USA        9\n",
       "UK         1\n",
       "Mexico     1\n",
       "India      1\n",
       "China      1\n",
       "Germany    1\n",
       "Ireland    1\n",
       "Belgium    1\n",
       "Denmark    1\n",
       "Name: count, dtype: int64"
      ]
     },
     "execution_count": 41,
     "metadata": {},
     "output_type": "execute_result"
    }
   ],
   "source": [
    "dh_5['Researcher location'].str.split(', ').explode().value_counts()"
   ]
  },
  {
   "cell_type": "code",
   "execution_count": 42,
   "id": "6746e518",
   "metadata": {},
   "outputs": [
    {
     "data": {
      "text/plain": [
       "23.0"
      ]
     },
     "execution_count": 42,
     "metadata": {},
     "output_type": "execute_result"
    }
   ],
   "source": [
    "sum(dh_5['Number of new datasets'])"
   ]
  },
  {
   "cell_type": "code",
   "execution_count": 43,
   "id": "815f3acc",
   "metadata": {},
   "outputs": [
    {
     "data": {
      "text/plain": [
       "469.0"
      ]
     },
     "execution_count": 43,
     "metadata": {},
     "output_type": "execute_result"
    }
   ],
   "source": [
    "sum(dh_4['Number of new datasets'])"
   ]
  },
  {
   "cell_type": "code",
   "execution_count": 44,
   "id": "f1edb4ac-ff41-47bf-8d73-69ead1a2b935",
   "metadata": {
    "jupyter": {
     "outputs_hidden": true
    },
    "tags": []
   },
   "outputs": [
    {
     "name": "stderr",
     "output_type": "stream",
     "text": [
      "/Users/zehuiyu/opt/anaconda3/lib/python3.9/site-packages/seaborn/distributions.py:2619: FutureWarning: `distplot` is a deprecated function and will be removed in a future version. Please adapt your code to use either `displot` (a figure-level function with similar flexibility) or `histplot` (an axes-level function for histograms).\n",
      "  warnings.warn(msg, FutureWarning)\n"
     ]
    },
    {
     "data": {
      "text/plain": [
       "<AxesSubplot:xlabel='year'>"
      ]
     },
     "execution_count": 44,
     "metadata": {},
     "output_type": "execute_result"
    },
    {
     "data": {
      "image/png": "[encoded data removed]",
      "text/plain": [
       "<Figure size 720x432 with 1 Axes>"
      ]
     },
     "metadata": {
      "needs_background": "light"
     },
     "output_type": "display_data"
    }
   ],
   "source": [
    "filter_data = dh_1.dropna(subset=['year'])\n",
    "plt.figure(figsize=(10,6))\n",
    "sns.distplot(filter_data['year'], kde=False)"
   ]
  },
  {
   "cell_type": "code",
   "execution_count": 45,
   "id": "5d255c3d-1cfa-49b5-b365-051b3b51cc7a",
   "metadata": {
    "jupyter": {
     "outputs_hidden": true
    },
    "tags": []
   },
   "outputs": [
    {
     "name": "stderr",
     "output_type": "stream",
     "text": [
      "/Users/zehuiyu/opt/anaconda3/lib/python3.9/site-packages/seaborn/distributions.py:2619: FutureWarning: `distplot` is a deprecated function and will be removed in a future version. Please adapt your code to use either `displot` (a figure-level function with similar flexibility) or `histplot` (an axes-level function for histograms).\n",
      "  warnings.warn(msg, FutureWarning)\n"
     ]
    },
    {
     "data": {
      "text/plain": [
       "<AxesSubplot:xlabel='citations'>"
      ]
     },
     "execution_count": 45,
     "metadata": {},
     "output_type": "execute_result"
    },
    {
     "data": {
      "image/png": "[encoded data removed]",
      "text/plain": [
       "<Figure size 720x432 with 1 Axes>"
      ]
     },
     "metadata": {
      "needs_background": "light"
     },
     "output_type": "display_data"
    }
   ],
   "source": [
    "filter_data = dh_1.dropna(subset=['citations'])\n",
    "plt.figure(figsize=(10,6))\n",
    "sns.distplot(filter_data['citations'], x=dh_1['year'], kde=False)"
   ]
  },
  {
   "cell_type": "code",
   "execution_count": 46,
   "id": "5cb8ec87",
   "metadata": {},
   "outputs": [],
   "source": [
    "hacom = pd.read_csv(\"HateReview_1_target_cols.csv\")\n",
    "\n",
    "hacom_1 = hacom.loc[(hacom['repeat check'] == 'No') \n",
    "   & (hacom['reaffirm'] == 'Yes') \n",
    "    & (hacom['Accessibility'] == 'Yes') \n",
    "    & (hacom['Filter dataset'] == 'Yes')]\n",
    "\n",
    "#Write the filtered data to a new csv file\n",
    "hacom_1.to_csv('HacomReview_1.csv') \n",
    "hatefulco_1 = pd.read_csv(\"HacomReview_1.csv\")"
   ]
  },
  {
   "cell_type": "code",
   "execution_count": 47,
   "id": "e513b144",
   "metadata": {},
   "outputs": [
    {
     "data": {
      "text/plain": [
       "Conceptualization or Reported\n",
       "race                        131\n",
       "gender                      124\n",
       "religion                    110\n",
       "sexuality                    78\n",
       "other                        74\n",
       "political                    64\n",
       "nationality                  55\n",
       "disability                   29\n",
       "body                         23\n",
       "class                        13\n",
       "age                          11\n",
       "organization/institution      9\n",
       "other                         2\n",
       "nationality                   1\n",
       "political                     1\n",
       "Name: count, dtype: int64"
      ]
     },
     "execution_count": 47,
     "metadata": {},
     "output_type": "execute_result"
    }
   ],
   "source": [
    "union=hacom_1['Conceptualization or Reported'].str.lower()\n",
    "union.str.split(', ').explode().value_counts()"
   ]
  },
  {
   "cell_type": "code",
   "execution_count": 48,
   "id": "032be8fb",
   "metadata": {},
   "outputs": [],
   "source": [
    "hacom_1['year'] = hatefulco_1['reference'].str.extract('(\\d+)')"
   ]
  },
  {
   "cell_type": "code",
   "execution_count": 49,
   "id": "c5edfd20",
   "metadata": {},
   "outputs": [
    {
     "data": {
      "text/plain": [
       "year\n",
       "2021    108\n",
       "2020     95\n",
       "2019     44\n",
       "2018     36\n",
       "2022     27\n",
       "2017     16\n",
       "2016      8\n",
       "2014      2\n",
       "2015      2\n",
       "2013      2\n",
       "2012      1\n",
       "Name: count, dtype: int64"
      ]
     },
     "execution_count": 49,
     "metadata": {},
     "output_type": "execute_result"
    }
   ],
   "source": [
    "hacom_1['year'].value_counts()"
   ]
  },
  {
   "cell_type": "code",
   "execution_count": 50,
   "id": "01e5c354",
   "metadata": {},
   "outputs": [
    {
     "data": {
      "text/plain": [
       "0        Targeted\n",
       "1        Targeted\n",
       "2        Targeted\n",
       "3    Non-Targeted\n",
       "4    Non-Targeted\n",
       "Name: code, dtype: object"
      ]
     },
     "execution_count": 50,
     "metadata": {},
     "output_type": "execute_result"
    }
   ],
   "source": [
    "#Define a function for recoding\n",
    "def code(target):\n",
    "    if target >= 1:\n",
    "        return \"Targeted\"\n",
    "    else:\n",
    "        return \"Non-Targeted\"\n",
    "\n",
    "hacom_1['code'] = hacom_1['# Any Targets'].apply(code)\n",
    "hacom_1['code'].head()"
   ]
  },
  {
   "cell_type": "code",
   "execution_count": 51,
   "id": "8ffab9f2",
   "metadata": {},
   "outputs": [
    {
     "data": {
      "text/html": [
       "<div>\n",
       "<style scoped>\n",
       "    .dataframe tbody tr th:only-of-type {\n",
       "        vertical-align: middle;\n",
       "    }\n",
       "\n",
       "    .dataframe tbody tr th {\n",
       "        vertical-align: top;\n",
       "    }\n",
       "\n",
       "    .dataframe thead th {\n",
       "        text-align: right;\n",
       "    }\n",
       "</style>\n",
       "<table border=\"1\" class=\"dataframe\">\n",
       "  <thead>\n",
       "    <tr style=\"text-align: right;\">\n",
       "      <th></th>\n",
       "      <th>Unnamed: 0</th>\n",
       "      <th>id</th>\n",
       "      <th>repeat check</th>\n",
       "      <th>reference</th>\n",
       "      <th>Title of the paper</th>\n",
       "      <th>Journal</th>\n",
       "      <th>Researcher location</th>\n",
       "      <th>Summary of the Paper</th>\n",
       "      <th>reaffirm</th>\n",
       "      <th>citations</th>\n",
       "      <th>...</th>\n",
       "      <th>Publication Year</th>\n",
       "      <th>Publication period</th>\n",
       "      <th>Targeted (conceptual)</th>\n",
       "      <th>Targeted (reported)</th>\n",
       "      <th># Languages</th>\n",
       "      <th># Reported Targets</th>\n",
       "      <th># Conceptual Targets</th>\n",
       "      <th># Any Targets</th>\n",
       "      <th>year</th>\n",
       "      <th>code</th>\n",
       "    </tr>\n",
       "  </thead>\n",
       "  <tbody>\n",
       "    <tr>\n",
       "      <th>0</th>\n",
       "      <td>0</td>\n",
       "      <td>1</td>\n",
       "      <td>No</td>\n",
       "      <td>(Aldera et al., 2021)</td>\n",
       "      <td>Exploratory Data Analysis and Classification o...</td>\n",
       "      <td>IEEE Access</td>\n",
       "      <td>Saudi Arabia</td>\n",
       "      <td>In this paper, the authors present a dataset c...</td>\n",
       "      <td>Yes</td>\n",
       "      <td>1</td>\n",
       "      <td>...</td>\n",
       "      <td>2021</td>\n",
       "      <td>2021</td>\n",
       "      <td>no</td>\n",
       "      <td>yes</td>\n",
       "      <td>1</td>\n",
       "      <td>3</td>\n",
       "      <td>0</td>\n",
       "      <td>3</td>\n",
       "      <td>2021</td>\n",
       "      <td>Targeted</td>\n",
       "    </tr>\n",
       "    <tr>\n",
       "      <th>1</th>\n",
       "      <td>1</td>\n",
       "      <td>2</td>\n",
       "      <td>No</td>\n",
       "      <td>(Relia et al., 2019)</td>\n",
       "      <td>Race, Ethnicity and National Origin-Based Disc...</td>\n",
       "      <td>In Proceedings of the International AAAI Conf...</td>\n",
       "      <td>USA</td>\n",
       "      <td>The paper studies malicious online content of ...</td>\n",
       "      <td>Yes</td>\n",
       "      <td>47</td>\n",
       "      <td>...</td>\n",
       "      <td>2019</td>\n",
       "      <td>2019</td>\n",
       "      <td>yes</td>\n",
       "      <td>yes</td>\n",
       "      <td>1</td>\n",
       "      <td>2</td>\n",
       "      <td>2</td>\n",
       "      <td>2</td>\n",
       "      <td>2019</td>\n",
       "      <td>Targeted</td>\n",
       "    </tr>\n",
       "    <tr>\n",
       "      <th>2</th>\n",
       "      <td>2</td>\n",
       "      <td>4</td>\n",
       "      <td>No</td>\n",
       "      <td>(Nangia et al., 2020)</td>\n",
       "      <td>CrowS-Pairs: A Challenge Dataset for Measuring...</td>\n",
       "      <td>arXiv preprint</td>\n",
       "      <td>USA</td>\n",
       "      <td>To measure some forms of social bias in langua...</td>\n",
       "      <td>Yes</td>\n",
       "      <td>98</td>\n",
       "      <td>...</td>\n",
       "      <td>2020</td>\n",
       "      <td>2020</td>\n",
       "      <td>yes</td>\n",
       "      <td>yes</td>\n",
       "      <td>1</td>\n",
       "      <td>9</td>\n",
       "      <td>9</td>\n",
       "      <td>9</td>\n",
       "      <td>2020</td>\n",
       "      <td>Targeted</td>\n",
       "    </tr>\n",
       "    <tr>\n",
       "      <th>3</th>\n",
       "      <td>4</td>\n",
       "      <td>5</td>\n",
       "      <td>No</td>\n",
       "      <td>(Iqbal, Chun and Keshtkar, 2020)</td>\n",
       "      <td>Using Computational Linguistics to Extract Sem...</td>\n",
       "      <td>2020 IEEE 14th International Conference on Sem...</td>\n",
       "      <td>USA</td>\n",
       "      <td>The goal of this study is to use state-of-the-...</td>\n",
       "      <td>Yes</td>\n",
       "      <td>1</td>\n",
       "      <td>...</td>\n",
       "      <td>2020</td>\n",
       "      <td>2020</td>\n",
       "      <td>no</td>\n",
       "      <td>no</td>\n",
       "      <td>1</td>\n",
       "      <td>0</td>\n",
       "      <td>0</td>\n",
       "      <td>0</td>\n",
       "      <td>2020</td>\n",
       "      <td>Non-Targeted</td>\n",
       "    </tr>\n",
       "    <tr>\n",
       "      <th>4</th>\n",
       "      <td>17</td>\n",
       "      <td>6</td>\n",
       "      <td>No</td>\n",
       "      <td>(Weld et al., 2021)</td>\n",
       "      <td>CONDA: a CONtextual Dual-Annotated dataset fo...</td>\n",
       "      <td>ACL-IJCNLP 2021</td>\n",
       "      <td>Australia</td>\n",
       "      <td>The paper presents a new dataset for in-game t...</td>\n",
       "      <td>Yes</td>\n",
       "      <td>4</td>\n",
       "      <td>...</td>\n",
       "      <td>2021</td>\n",
       "      <td>2021</td>\n",
       "      <td>no</td>\n",
       "      <td>no</td>\n",
       "      <td>1</td>\n",
       "      <td>0</td>\n",
       "      <td>0</td>\n",
       "      <td>0</td>\n",
       "      <td>2021</td>\n",
       "      <td>Non-Targeted</td>\n",
       "    </tr>\n",
       "    <tr>\n",
       "      <th>...</th>\n",
       "      <td>...</td>\n",
       "      <td>...</td>\n",
       "      <td>...</td>\n",
       "      <td>...</td>\n",
       "      <td>...</td>\n",
       "      <td>...</td>\n",
       "      <td>...</td>\n",
       "      <td>...</td>\n",
       "      <td>...</td>\n",
       "      <td>...</td>\n",
       "      <td>...</td>\n",
       "      <td>...</td>\n",
       "      <td>...</td>\n",
       "      <td>...</td>\n",
       "      <td>...</td>\n",
       "      <td>...</td>\n",
       "      <td>...</td>\n",
       "      <td>...</td>\n",
       "      <td>...</td>\n",
       "      <td>...</td>\n",
       "      <td>...</td>\n",
       "    </tr>\n",
       "    <tr>\n",
       "      <th>336</th>\n",
       "      <td>497</td>\n",
       "      <td>498</td>\n",
       "      <td>No</td>\n",
       "      <td>(Qian, ElSherief, Belding, &amp; Wang, 2019)</td>\n",
       "      <td>Learning to Decipher Hate Symbols</td>\n",
       "      <td>arXiv preprint</td>\n",
       "      <td>USA</td>\n",
       "      <td>In this paper, they propose a novel task of de...</td>\n",
       "      <td>Yes</td>\n",
       "      <td>9</td>\n",
       "      <td>...</td>\n",
       "      <td>2019</td>\n",
       "      <td>2019</td>\n",
       "      <td>no</td>\n",
       "      <td>no</td>\n",
       "      <td>1</td>\n",
       "      <td>0</td>\n",
       "      <td>0</td>\n",
       "      <td>0</td>\n",
       "      <td>2019</td>\n",
       "      <td>Non-Targeted</td>\n",
       "    </tr>\n",
       "    <tr>\n",
       "      <th>337</th>\n",
       "      <td>498</td>\n",
       "      <td>499</td>\n",
       "      <td>No</td>\n",
       "      <td>(Mathur, Shah, Sawhney, &amp; Mahata, 2018)</td>\n",
       "      <td>Detecting Offensive Tweets in Hindi-English Co...</td>\n",
       "      <td>Proceedings of the Sixth International Worksho...</td>\n",
       "      <td>India, USA</td>\n",
       "      <td>The paper focuses on the classification of off...</td>\n",
       "      <td>Yes</td>\n",
       "      <td>114</td>\n",
       "      <td>...</td>\n",
       "      <td>2018</td>\n",
       "      <td>2018</td>\n",
       "      <td>no</td>\n",
       "      <td>no</td>\n",
       "      <td>1</td>\n",
       "      <td>0</td>\n",
       "      <td>0</td>\n",
       "      <td>0</td>\n",
       "      <td>2018</td>\n",
       "      <td>Non-Targeted</td>\n",
       "    </tr>\n",
       "    <tr>\n",
       "      <th>338</th>\n",
       "      <td>499</td>\n",
       "      <td>500</td>\n",
       "      <td>No</td>\n",
       "      <td>(Park, et al., 2021)</td>\n",
       "      <td>Detecting community sensitive norm violations ...</td>\n",
       "      <td>arXiv preprint</td>\n",
       "      <td>USA</td>\n",
       "      <td>They introduce a new dataset focusing on a mor...</td>\n",
       "      <td>Yes</td>\n",
       "      <td>2</td>\n",
       "      <td>...</td>\n",
       "      <td>2021</td>\n",
       "      <td>2021</td>\n",
       "      <td>no</td>\n",
       "      <td>no</td>\n",
       "      <td>1</td>\n",
       "      <td>0</td>\n",
       "      <td>0</td>\n",
       "      <td>0</td>\n",
       "      <td>2021</td>\n",
       "      <td>Non-Targeted</td>\n",
       "    </tr>\n",
       "    <tr>\n",
       "      <th>339</th>\n",
       "      <td>501</td>\n",
       "      <td>502</td>\n",
       "      <td>No</td>\n",
       "      <td>(Waseem &amp; Hovy, 2016)</td>\n",
       "      <td>Hateful symbols or hateful people? predictive ...</td>\n",
       "      <td>Proceedings of the NAACL student research work...</td>\n",
       "      <td>Denmark</td>\n",
       "      <td>They provide a list of criteria founded in cri...</td>\n",
       "      <td>Yes</td>\n",
       "      <td>1371</td>\n",
       "      <td>...</td>\n",
       "      <td>2016</td>\n",
       "      <td>2016</td>\n",
       "      <td>yes</td>\n",
       "      <td>yes</td>\n",
       "      <td>1</td>\n",
       "      <td>2</td>\n",
       "      <td>4</td>\n",
       "      <td>4</td>\n",
       "      <td>2016</td>\n",
       "      <td>Targeted</td>\n",
       "    </tr>\n",
       "    <tr>\n",
       "      <th>340</th>\n",
       "      <td>502</td>\n",
       "      <td>503</td>\n",
       "      <td>No</td>\n",
       "      <td>(Davidson et al., 2017)</td>\n",
       "      <td>Automated Hate Speech Detection and the Proble...</td>\n",
       "      <td>Proceedings of the international AAAI conferen...</td>\n",
       "      <td>USA, Qatar</td>\n",
       "      <td>They used a crowd-sourced hate speech lexicon ...</td>\n",
       "      <td>Yes</td>\n",
       "      <td>1962</td>\n",
       "      <td>...</td>\n",
       "      <td>2017</td>\n",
       "      <td>2017</td>\n",
       "      <td>no</td>\n",
       "      <td>no</td>\n",
       "      <td>1</td>\n",
       "      <td>0</td>\n",
       "      <td>0</td>\n",
       "      <td>0</td>\n",
       "      <td>2017</td>\n",
       "      <td>Non-Targeted</td>\n",
       "    </tr>\n",
       "  </tbody>\n",
       "</table>\n",
       "<p>314 rows × 76 columns</p>\n",
       "</div>"
      ],
      "text/plain": [
       "     Unnamed: 0   id repeat check                                 reference  \\\n",
       "0             0    1           No                     (Aldera et al., 2021)   \n",
       "1             1    2           No                      (Relia et al., 2019)   \n",
       "2             2    4           No                     (Nangia et al., 2020)   \n",
       "3             4    5           No          (Iqbal, Chun and Keshtkar, 2020)   \n",
       "4            17    6           No                       (Weld et al., 2021)   \n",
       "..          ...  ...          ...                                       ...   \n",
       "336         497  498           No  (Qian, ElSherief, Belding, & Wang, 2019)   \n",
       "337         498  499           No   (Mathur, Shah, Sawhney, & Mahata, 2018)   \n",
       "338         499  500           No                      (Park, et al., 2021)   \n",
       "339         501  502           No                     (Waseem & Hovy, 2016)   \n",
       "340         502  503           No                   (Davidson et al., 2017)   \n",
       "\n",
       "                                    Title of the paper  \\\n",
       "0    Exploratory Data Analysis and Classification o...   \n",
       "1    Race, Ethnicity and National Origin-Based Disc...   \n",
       "2    CrowS-Pairs: A Challenge Dataset for Measuring...   \n",
       "3    Using Computational Linguistics to Extract Sem...   \n",
       "4     CONDA: a CONtextual Dual-Annotated dataset fo...   \n",
       "..                                                 ...   \n",
       "336                  Learning to Decipher Hate Symbols   \n",
       "337  Detecting Offensive Tweets in Hindi-English Co...   \n",
       "338  Detecting community sensitive norm violations ...   \n",
       "339  Hateful symbols or hateful people? predictive ...   \n",
       "340  Automated Hate Speech Detection and the Proble...   \n",
       "\n",
       "                                               Journal Researcher location  \\\n",
       "0                                          IEEE Access        Saudi Arabia   \n",
       "1     In Proceedings of the International AAAI Conf...                 USA   \n",
       "2                                       arXiv preprint                 USA   \n",
       "3    2020 IEEE 14th International Conference on Sem...                 USA   \n",
       "4                                      ACL-IJCNLP 2021           Australia   \n",
       "..                                                 ...                 ...   \n",
       "336                                    arXiv preprint                  USA   \n",
       "337  Proceedings of the Sixth International Worksho...          India, USA   \n",
       "338                                    arXiv preprint                  USA   \n",
       "339  Proceedings of the NAACL student research work...             Denmark   \n",
       "340  Proceedings of the international AAAI conferen...          USA, Qatar   \n",
       "\n",
       "                                  Summary of the Paper reaffirm  citations  \\\n",
       "0    In this paper, the authors present a dataset c...      Yes          1   \n",
       "1    The paper studies malicious online content of ...      Yes         47   \n",
       "2    To measure some forms of social bias in langua...      Yes         98   \n",
       "3    The goal of this study is to use state-of-the-...      Yes          1   \n",
       "4    The paper presents a new dataset for in-game t...      Yes          4   \n",
       "..                                                 ...      ...        ...   \n",
       "336  In this paper, they propose a novel task of de...      Yes          9   \n",
       "337  The paper focuses on the classification of off...      Yes        114   \n",
       "338  They introduce a new dataset focusing on a mor...      Yes          2   \n",
       "339  They provide a list of criteria founded in cri...      Yes       1371   \n",
       "340  They used a crowd-sourced hate speech lexicon ...      Yes       1962   \n",
       "\n",
       "     ... Publication Year Publication period Targeted (conceptual)  \\\n",
       "0    ...             2021               2021                    no   \n",
       "1    ...             2019               2019                   yes   \n",
       "2    ...             2020               2020                   yes   \n",
       "3    ...             2020               2020                    no   \n",
       "4    ...             2021               2021                    no   \n",
       "..   ...              ...                ...                   ...   \n",
       "336  ...             2019               2019                    no   \n",
       "337  ...             2018               2018                    no   \n",
       "338  ...             2021               2021                    no   \n",
       "339  ...             2016               2016                   yes   \n",
       "340  ...             2017               2017                    no   \n",
       "\n",
       "    Targeted (reported) # Languages # Reported Targets # Conceptual Targets  \\\n",
       "0                   yes           1                  3                    0   \n",
       "1                   yes           1                  2                    2   \n",
       "2                   yes           1                  9                    9   \n",
       "3                    no           1                  0                    0   \n",
       "4                    no           1                  0                    0   \n",
       "..                  ...         ...                ...                  ...   \n",
       "336                  no           1                  0                    0   \n",
       "337                  no           1                  0                    0   \n",
       "338                  no           1                  0                    0   \n",
       "339                 yes           1                  2                    4   \n",
       "340                  no           1                  0                    0   \n",
       "\n",
       "    # Any Targets  year          code  \n",
       "0               3  2021      Targeted  \n",
       "1               2  2019      Targeted  \n",
       "2               9  2020      Targeted  \n",
       "3               0  2020  Non-Targeted  \n",
       "4               0  2021  Non-Targeted  \n",
       "..            ...   ...           ...  \n",
       "336             0  2019  Non-Targeted  \n",
       "337             0  2018  Non-Targeted  \n",
       "338             0  2021  Non-Targeted  \n",
       "339             4  2016      Targeted  \n",
       "340             0  2017  Non-Targeted  \n",
       "\n",
       "[314 rows x 76 columns]"
      ]
     },
     "execution_count": 51,
     "metadata": {},
     "output_type": "execute_result"
    }
   ],
   "source": [
    "#hacom_1['year'].count()#!='2022'\n",
    "\n",
    "hacom_1[hacom_1['year'] != '2022']"
   ]
  },
  {
   "cell_type": "code",
   "execution_count": 819,
   "id": "0beaae8d",
   "metadata": {},
   "outputs": [
    {
     "data": {
      "image/png": "[encoded data removed]",
      "text/plain": [
       "<Figure size 432x288 with 1 Axes>"
      ]
     },
     "metadata": {
      "needs_background": "light"
     },
     "output_type": "display_data"
    }
   ],
   "source": [
    "#with vs without target\n",
    "#colors = [\"#14517C\",\"#E7EFFA\",\"#2F7FC1\"]\n",
    "#colors=[\"#2878B5\",\"#999999\",\"#9AC9DB\"]\n",
    "\n",
    "\n",
    "#p = hacom_1.pivot_table(index=hacom_1[hacom_1['year'] != '2022']['year'], columns='code',values='Number of new datasets', aggfunc='sum')\n",
    "p = hacom_1.pivot_table(index=hacom_1['year'], columns='code',values='Number of new datasets', aggfunc='sum')\n",
    "bap=p.plot(kind='bar', stacked=True, color = sns.color_palette())\n",
    "bap.legend([\"Untargeted\",\"Targeted\"], title=\"Targets\") \n",
    "\n",
    "plt.xlabel('Year')\n",
    "#plt.xlabel('') \n",
    "bap.get_children()[10].set_alpha(0.5)\n",
    "bap.get_children()[21].set_alpha(0.5)\n",
    "\n",
    "plt.xticks(rotation=0, ha='center')\n",
    "#plt.yscale('log')\n",
    "plt.ylabel('Number of datasets')\n",
    "#plt.show()\n",
    "#p.plot(kind='bar', stacked=True, figsize=(10,3), color = sns.color_palette()).legend([\"Non-targeted\",\"Both\",\"Targeted\"])\n",
    "\n",
    "bap.grid(axis='y')\n",
    "bap.set(axisbelow=True)\n",
    "plt.tight_layout()\n",
    "plt.savefig(\"pubyear_targets.pdf\", dpi = 400)\n",
    "\n"
   ]
  },
  {
   "cell_type": "code",
   "execution_count": null,
   "id": "943be725",
   "metadata": {},
   "outputs": [],
   "source": []
  },
  {
   "cell_type": "code",
   "execution_count": 53,
   "id": "a81467f8-1908-439d-b8f5-d64b4ad5ed62",
   "metadata": {},
   "outputs": [
    {
     "data": {
      "text/plain": [
       "General or specific\n",
       "General     184\n",
       "Specific    157\n",
       "Name: count, dtype: int64"
      ]
     },
     "execution_count": 53,
     "metadata": {},
     "output_type": "execute_result"
    }
   ],
   "source": [
    "dh_1['General or specific'].value_counts()"
   ]
  },
  {
   "cell_type": "code",
   "execution_count": 54,
   "id": "9d91c567",
   "metadata": {},
   "outputs": [
    {
     "data": {
      "text/plain": [
       "Targeted or non-targeted\n",
       "Non-targeted    173\n",
       "Targeted        168\n",
       "Name: count, dtype: int64"
      ]
     },
     "execution_count": 54,
     "metadata": {},
     "output_type": "execute_result"
    }
   ],
   "source": [
    "dh_1['Targeted or non-targeted'].value_counts()"
   ]
  },
  {
   "cell_type": "code",
   "execution_count": 55,
   "id": "6bdcfd43",
   "metadata": {},
   "outputs": [
    {
     "data": {
      "text/plain": [
       "Conceptualization\n",
       "race                        102\n",
       "gender                       98\n",
       "religion                     83\n",
       "sexuality                    64\n",
       "nationality                  43\n",
       "political                    39\n",
       "other                        25\n",
       "disability                   23\n",
       "body                         14\n",
       "age                           9\n",
       "class                         6\n",
       "organization/institution      3\n",
       "other                         2\n",
       "                              1\n",
       "political                     1\n",
       "Name: count, dtype: int64"
      ]
     },
     "execution_count": 55,
     "metadata": {},
     "output_type": "execute_result"
    }
   ],
   "source": [
    "#Re-annotate \n",
    "reanno = dh_1['Conceptualization'].str.lower()\n",
    "reanno.str.split(', ').explode().value_counts()"
   ]
  },
  {
   "cell_type": "code",
   "execution_count": 56,
   "id": "172c53a5",
   "metadata": {},
   "outputs": [
    {
     "data": {
      "text/plain": [
       "Reported\n",
       "gender                      67\n",
       "race                        66\n",
       "religion                    57\n",
       "other                       55\n",
       "political                   40\n",
       "sexuality                   25\n",
       "nationality                 18\n",
       "body                        11\n",
       "class                        9\n",
       "disability                   8\n",
       "organization/institution     7\n",
       "age                          6\n",
       "nationality                  1\n",
       "                             1\n",
       "Name: count, dtype: int64"
      ]
     },
     "execution_count": 56,
     "metadata": {},
     "output_type": "execute_result"
    }
   ],
   "source": [
    "repor = dh_1['Reported'].str.lower()\n",
    "repor.str.split(', ').explode().value_counts()"
   ]
  },
  {
   "cell_type": "code",
   "execution_count": 57,
   "id": "30213544-9c52-4163-a74a-bb2f2c77ad2d",
   "metadata": {},
   "outputs": [
    {
     "data": {
      "text/plain": [
       "neutral\n",
       "Yes    277\n",
       "No      64\n",
       "Name: count, dtype: int64"
      ]
     },
     "execution_count": 57,
     "metadata": {},
     "output_type": "execute_result"
    }
   ],
   "source": [
    "dh_1['neutral'].value_counts()"
   ]
  },
  {
   "cell_type": "code",
   "execution_count": 58,
   "id": "b68e1221-33d4-4d41-8586-f1d638260918",
   "metadata": {},
   "outputs": [
    {
     "data": {
      "text/plain": [
       "General or specific  neutral\n",
       "General              No          25\n",
       "                     Yes        159\n",
       "Specific             No          39\n",
       "                     Yes        118\n",
       "dtype: int64"
      ]
     },
     "execution_count": 58,
     "metadata": {},
     "output_type": "execute_result"
    }
   ],
   "source": [
    "dh_1.groupby(['General or specific', 'neutral']).size()"
   ]
  },
  {
   "cell_type": "code",
   "execution_count": 59,
   "id": "0357204b-32a4-44be-ab97-3ed2b0f931a7",
   "metadata": {},
   "outputs": [
    {
     "data": {
      "text/plain": [
       "General or specific  Identity-directed\n",
       "General              No                   182\n",
       "                     Yes                    2\n",
       "Specific             No                    40\n",
       "                     Yes                  117\n",
       "dtype: int64"
      ]
     },
     "execution_count": 59,
     "metadata": {},
     "output_type": "execute_result"
    }
   ],
   "source": [
    "dh_1.groupby(['General or specific', 'Identity-directed']).size()"
   ]
  },
  {
   "cell_type": "code",
   "execution_count": 60,
   "id": "3598c17c-a8cb-4a21-be2a-be1ab76e0784",
   "metadata": {},
   "outputs": [
    {
     "data": {
      "text/html": [
       "<div>\n",
       "<style scoped>\n",
       "    .dataframe tbody tr th:only-of-type {\n",
       "        vertical-align: middle;\n",
       "    }\n",
       "\n",
       "    .dataframe tbody tr th {\n",
       "        vertical-align: top;\n",
       "    }\n",
       "\n",
       "    .dataframe thead th {\n",
       "        text-align: right;\n",
       "    }\n",
       "</style>\n",
       "<table border=\"1\" class=\"dataframe\">\n",
       "  <thead>\n",
       "    <tr style=\"text-align: right;\">\n",
       "      <th></th>\n",
       "      <th>Identity-directed</th>\n",
       "      <th>neutral</th>\n",
       "      <th>Affiliation-directed</th>\n",
       "      <th>Person-directed</th>\n",
       "    </tr>\n",
       "  </thead>\n",
       "  <tbody>\n",
       "    <tr>\n",
       "      <th>No</th>\n",
       "      <td>222</td>\n",
       "      <td>64</td>\n",
       "      <td>273</td>\n",
       "      <td>300</td>\n",
       "    </tr>\n",
       "    <tr>\n",
       "      <th>Yes</th>\n",
       "      <td>119</td>\n",
       "      <td>277</td>\n",
       "      <td>68</td>\n",
       "      <td>41</td>\n",
       "    </tr>\n",
       "  </tbody>\n",
       "</table>\n",
       "</div>"
      ],
      "text/plain": [
       "     Identity-directed  neutral  Affiliation-directed  Person-directed\n",
       "No                 222       64                   273              300\n",
       "Yes                119      277                    68               41"
      ]
     },
     "execution_count": 60,
     "metadata": {},
     "output_type": "execute_result"
    }
   ],
   "source": [
    "#Write the results of targets into a table\n",
    "yn=pd.DataFrame({'Identity-directed': dh_1['Identity-directed'].value_counts(),\n",
    "                   'neutral':dh_1['neutral'].value_counts(),\n",
    "                   'Affiliation-directed':dh_1['Affiliation-directed'].value_counts(),\n",
    "                   'Person-directed':dh_1['Person-directed'].value_counts()\n",
    "                  })\n",
    "yn.to_csv('Targets_specific.csv')\n",
    "yn"
   ]
  },
  {
   "cell_type": "code",
   "execution_count": 61,
   "id": "14bbdc0f-1aff-4d9b-9a9e-93cc253d4d3b",
   "metadata": {},
   "outputs": [
    {
     "data": {
      "text/plain": [
       "Identity-directed_1_TEXT\n",
       "gender                42\n",
       "religion              42\n",
       "race                  38\n",
       "ethnicity             17\n",
       "other                 13\n",
       "nationality           12\n",
       "sexuality             11\n",
       "class                  7\n",
       "political              6\n",
       "sexual orientation     6\n",
       "Name: count, dtype: int64"
      ]
     },
     "execution_count": 61,
     "metadata": {},
     "output_type": "execute_result"
    }
   ],
   "source": [
    "#Extract targets\n",
    "id_count = dh_1['Identity-directed_1_TEXT'].str.lower()\n",
    "id_count.str.split(', ').explode().value_counts()[:10]"
   ]
  },
  {
   "cell_type": "code",
   "execution_count": 62,
   "id": "bbeb9d74",
   "metadata": {},
   "outputs": [
    {
     "data": {
      "text/plain": [
       "Identity-directed_summary\n",
       "gender         61\n",
       "race           58\n",
       "religion       55\n",
       "other          39\n",
       "political      24\n",
       "sexuality      20\n",
       "nationality    15\n",
       "body            9\n",
       "class           8\n",
       "age             6\n",
       "Name: count, dtype: int64"
      ]
     },
     "execution_count": 62,
     "metadata": {},
     "output_type": "execute_result"
    }
   ],
   "source": [
    "#Extract targets\n",
    "id_count = dh_1['Identity-directed_summary'].str.lower()\n",
    "id_count.str.split(', ').explode().value_counts()[:10]"
   ]
  },
  {
   "cell_type": "code",
   "execution_count": 63,
   "id": "41059c39-2990-4090-aea6-7dd55100d517",
   "metadata": {},
   "outputs": [
    {
     "data": {
      "text/plain": [
       "Affiliation-directed_1_TEXT\n",
       "women            14\n",
       "jews              4\n",
       "muslims           4\n",
       "not specified     3\n",
       "other             3\n",
       "misogyny          3\n",
       "asian             3\n",
       "refugees          2\n",
       "group             2\n",
       "individual        2\n",
       "Name: count, dtype: int64"
      ]
     },
     "execution_count": 63,
     "metadata": {},
     "output_type": "execute_result"
    }
   ],
   "source": [
    "#Extract targets\n",
    "af_count = dh_1['Affiliation-directed_1_TEXT'].str.lower()\n",
    "af_count.str.split(', ').explode().value_counts()[:10]"
   ]
  },
  {
   "cell_type": "code",
   "execution_count": 64,
   "id": "575aab27-326b-4cf4-b8aa-b0d96e134a89",
   "metadata": {},
   "outputs": [],
   "source": [
    "#Plot language distribution\n",
    "#citation trends over time\n",
    "#topical focus over time\n",
    "#with vs without target (堆积图)\n",
    "#Research orientation distribution\n",
    "#Publication date tendency over time (spot)-citation?\n",
    "#data source distribution\n",
    "#Topical focus distribution\n",
    "#annotation size+train+test（堆积图）\n",
    "#Citation network_research orientation"
   ]
  },
  {
   "cell_type": "code",
   "execution_count": 65,
   "id": "4e218e68",
   "metadata": {},
   "outputs": [
    {
     "data": {
      "text/plain": [
       "0       Targeted_reported\n",
       "1       Targeted_reported\n",
       "2       Targeted_reported\n",
       "3    Nontargeted_reported\n",
       "4    Nontargeted_reported\n",
       "Name: recode, dtype: object"
      ]
     },
     "execution_count": 65,
     "metadata": {},
     "output_type": "execute_result"
    }
   ],
   "source": [
    "#Define a function for recoding\n",
    "def my_recode(target):\n",
    "    if target == \"General\":\n",
    "        return \"Nontargeted_reported\"\n",
    "    else:\n",
    "        return \"Targeted_reported\"\n",
    "\n",
    "dh_1['recode'] = dh_1['General or specific'].apply(my_recode)\n",
    "dh_1['recode'].head()"
   ]
  },
  {
   "cell_type": "code",
   "execution_count": 66,
   "id": "4b57ab28",
   "metadata": {},
   "outputs": [
    {
     "data": {
      "text/plain": [
       "0    Nontargeted_conceptualized\n",
       "1       Targeted_conceptualized\n",
       "2       Targeted_conceptualized\n",
       "3    Nontargeted_conceptualized\n",
       "4    Nontargeted_conceptualized\n",
       "Name: re, dtype: object"
      ]
     },
     "execution_count": 66,
     "metadata": {},
     "output_type": "execute_result"
    }
   ],
   "source": [
    "def recode(target):\n",
    "    if target == \"Non-targeted\":\n",
    "        return \"Nontargeted_conceptualized\"\n",
    "    else:\n",
    "        return \"Targeted_conceptualized\"\n",
    "\n",
    "dh_1['re'] = dh_1['Targeted or non-targeted'].apply(recode)\n",
    "dh_1['re'].head()"
   ]
  },
  {
   "cell_type": "code",
   "execution_count": 67,
   "id": "f08a6631",
   "metadata": {},
   "outputs": [
    {
     "data": {
      "image/png": "[encoded data removed]",
      "text/plain": [
       "<Figure size 720x216 with 1 Axes>"
      ]
     },
     "metadata": {
      "needs_background": "light"
     },
     "output_type": "display_data"
    }
   ],
   "source": [
    "#with vs without target (堆积图)\n",
    "#colors = [\"#14517C\",\"#E7EFFA\",\"#2F7FC1\"]\n",
    "colors=[\"#2878B5\",\"#999999\",\"#9AC9DB\"]\n",
    "\n",
    "fig, ax = plt.subplots()\n",
    "\n",
    "p = dh_1.pivot_table(index=[\"year\"], columns=['re'], values='Language', aggfunc='count')\n",
    "p.plot(kind='bar', stacked=True, width=0.4, ax=ax, color=sns.color_palette(), figsize=(7,3), position=0)#.legend([\"Nontargeted_conceptualized\",\"Targeted_conceptualized\"])\n",
    "t = dh_1.pivot_table(index=[\"year\"], columns=['recode'],values='Language', aggfunc='count')\n",
    "t.plot(kind='bar', stacked=True, width=0.4, ax=ax, color=sns.color_palette(), figsize=(10,3), position=1, hatch='//')\n",
    "ax.set_xlim(right=len(p)-0.5)\n",
    "plt.xlabel('')\n",
    "plt.xticks(rotation=0, ha='center')\n",
    "plt.ylabel('Number of datasets')\n",
    "#plt.show()\n",
    "#p.plot(kind='bar', stacked=True, figsize=(10,3), color = sns.color_palette())\n",
    "plt.legend([\"Nontargeted_conceptualized\",\"Targeted_conceptualized\",\"Nontargeted_reported\",\"Targeted_reported\"])\n",
    "plt.tight_layout()\n",
    "plt.savefig(\"compare_targets.pdf\")"
   ]
  },
  {
   "cell_type": "code",
   "execution_count": 68,
   "id": "8c62e0aa",
   "metadata": {},
   "outputs": [
    {
     "data": {
      "text/plain": [
       "0    1\n",
       "1    1\n",
       "2    1\n",
       "3   -1\n",
       "4   -1\n",
       "Name: Explicit, dtype: int64"
      ]
     },
     "execution_count": 68,
     "metadata": {},
     "output_type": "execute_result"
    }
   ],
   "source": [
    "def to_value(target):\n",
    "    if target == \"General\":\n",
    "        return -1\n",
    "    else:\n",
    "        return 1\n",
    "\n",
    "dh_1['Explicit'] = dh_1['General or specific'].apply(to_value)\n",
    "dh_1['Explicit'].head()"
   ]
  },
  {
   "cell_type": "code",
   "execution_count": 69,
   "id": "6e6b82f0",
   "metadata": {},
   "outputs": [
    {
     "data": {
      "text/plain": [
       "0   -1\n",
       "1    1\n",
       "2    1\n",
       "3   -1\n",
       "4   -1\n",
       "Name: Implicit, dtype: int64"
      ]
     },
     "execution_count": 69,
     "metadata": {},
     "output_type": "execute_result"
    }
   ],
   "source": [
    "def to_values(target):\n",
    "    if target == \"Non-targeted\":\n",
    "        return -1\n",
    "    else:\n",
    "        return 1\n",
    "\n",
    "dh_1['Implicit'] = dh_1['Targeted or non-targeted'].apply(to_values)\n",
    "dh_1['Implicit'].head()"
   ]
  },
  {
   "cell_type": "code",
   "execution_count": 70,
   "id": "41f58fab",
   "metadata": {},
   "outputs": [
    {
     "data": {
      "image/png": "[encoded data removed]",
      "text/plain": [
       "<Figure size 720x216 with 1 Axes>"
      ]
     },
     "metadata": {
      "needs_background": "light"
     },
     "output_type": "display_data"
    }
   ],
   "source": [
    "# Proportion figure\n",
    "import numpy as np\n",
    "\n",
    "fig, ax = plt.subplots()\n",
    "\n",
    "#calculate the percentage\n",
    "#per = (dh_1.groupby(['year'])['Implicit'].size() / dh_1.groupby(['year','Implicit']).count()).mul(100).round(1).unstack(level=1)\n",
    "#per = dh_1.groupby(['year'])['Implicit'].value_counts(normalize=True).mul(100).round(1).unstack(level=1)\n",
    "per = pd.crosstab(dh_1.year, dh_1.Explicit, normalize='index').mul(100).round(1)\n",
    "imt = pd.crosstab(dh_1.year, dh_1.Implicit, normalize='index').mul(100).round(1)\n",
    "\n",
    "#dh_1.pivot_table(index=[\"year\"], columns=['recode'],values='Language', aggfunc='count')\n",
    "#t.plot(kind='bar', stacked=True, width=0.4, ax=ax, color=sns.color_palette(), figsize=(10,3), position=1, hatch='//')#.legend([\"Both_explicit\",\"Non-targeted_explicit\",\"Targeted_explicit\"])\n",
    "\n",
    "#plot\n",
    "imtper = imt.plot(kind='bar', stacked=True, rot=0, figsize=(10, 3), width=0.4, ax=ax, position=0)#.legend([\"Non-targeted\",\"Targeted\"])\n",
    "perper = per.plot(kind='bar', stacked=True, rot=0, figsize=(10, 3), width=0.4, ax=ax, position=1, hatch='//')#.legend([\"Non-targeted\",\"Targeted\"])\n",
    "\n",
    "\n",
    "ax.set_xlim(right=len(p)-0.5)\n",
    "\n",
    "plt.xlabel('')\n",
    "plt.xticks(rotation=0, ha='center')\n",
    "plt.ylabel(\"Percentage of targeted publications(%)\")\n",
    "\n",
    "plt.legend([\"Nontargeted_conceptualized\",\"Targeted_conceptualized\",\"Nontargeted_reported\",\"Targeted_reported\"])\n",
    "plt.tight_layout()\n",
    "plt.savefig(\"ImpExp_percent.pdf\")"
   ]
  },
  {
   "cell_type": "code",
   "execution_count": 71,
   "id": "94ea01dd-d80a-4b31-b749-3809fb70d7df",
   "metadata": {},
   "outputs": [
    {
     "data": {
      "image/png": "[encoded data removed]",
      "text/plain": [
       "<Figure size 720x216 with 1 Axes>"
      ]
     },
     "metadata": {
      "needs_background": "light"
     },
     "output_type": "display_data"
    }
   ],
   "source": [
    "#with vs without target (堆积图)\n",
    "#colors = [\"#14517C\",\"#E7EFFA\",\"#2F7FC1\"]\n",
    "colors=[\"#2878B5\",\"#999999\",\"#9AC9DB\"]\n",
    "\n",
    "p = dh_1.pivot_table(index=[\"year\"], columns='General or specific',values='citations', aggfunc='count')\n",
    "p.plot(kind='bar', stacked=True, color=sns.color_palette(), figsize=(10,3)).legend([\"Non-targeted\",\"Both\",\"Targeted\"])\n",
    "#plt.xlabel('Year')\n",
    "plt.xlabel('')\n",
    "plt.xticks(rotation=0, ha='center')\n",
    "plt.ylabel('Number of publications')\n",
    "#plt.show()\n",
    "#p.plot(kind='bar', stacked=True, figsize=(10,3), color = sns.color_palette()).legend([\"Non-targeted\",\"Both\",\"Targeted\"])\n",
    "plt.tight_layout()\n",
    "plt.savefig(\"year_targets.pdf\")"
   ]
  },
  {
   "cell_type": "code",
   "execution_count": 72,
   "id": "175e6e07-b1c0-44aa-aedd-459e0ad53d99",
   "metadata": {},
   "outputs": [
    {
     "data": {
      "image/png": "[encoded data removed]",
      "text/plain": [
       "<Figure size 720x216 with 1 Axes>"
      ]
     },
     "metadata": {
      "needs_background": "light"
     },
     "output_type": "display_data"
    }
   ],
   "source": [
    "# International collaboration\n",
    "pp = dh_1.pivot_table(index=[\"year\"], columns='rl',values='Language', aggfunc='count')\n",
    "pp.plot(kind='bar', stacked=True, color=sns.color_palette(), figsize=(10,3)).legend([\"1 country\",\"2 countries\",\"3 countries\",\"4 countries\",\"5 countries\"])\n",
    "plt.xlabel('')\n",
    "plt.xticks(rotation=0, ha='center')\n",
    "plt.ylabel(\"Researchers' locations\")\n",
    "\n",
    "plt.tight_layout()\n",
    "plt.savefig(\"Collab_year.pdf\")\n"
   ]
  },
  {
   "cell_type": "code",
   "execution_count": 73,
   "id": "adb35fc0",
   "metadata": {},
   "outputs": [
    {
     "data": {
      "text/plain": [
       "1.0"
      ]
     },
     "execution_count": 73,
     "metadata": {},
     "output_type": "execute_result"
    }
   ],
   "source": [
    "dh_1['Targetedornon'] = dh_1['Targeted or non-targeted'].str.count(\",\") + 1\n",
    "dh_1['Targetedornon'].mean()"
   ]
  },
  {
   "cell_type": "code",
   "execution_count": 74,
   "id": "6d6b02fc",
   "metadata": {},
   "outputs": [
    {
     "data": {
      "image/png": "[encoded data removed]",
      "text/plain": [
       "<Figure size 720x216 with 1 Axes>"
      ]
     },
     "metadata": {
      "needs_background": "light"
     },
     "output_type": "display_data"
    }
   ],
   "source": [
    "# International collaboration\n",
    "pp = dh_1.pivot_table(index=[\"year\"], columns='rl',values='Language', aggfunc='count')\n",
    "pp.plot(kind='bar', stacked=True, color=sns.color_palette(), figsize=(10,3)).legend([\"1 country\",\"2 countries\",\"3 countries\",\"4 countries\",\"5 countries\"])\n",
    "plt.xlabel('')\n",
    "plt.xticks(rotation=0, ha='center')\n",
    "plt.ylabel(\"Number of publications\")\n",
    "\n",
    "plt.tight_layout()\n",
    "plt.savefig(\"Collab_year.pdf\")\n"
   ]
  },
  {
   "cell_type": "code",
   "execution_count": 75,
   "id": "bb130315",
   "metadata": {},
   "outputs": [
    {
     "data": {
      "image/png": "[encoded data removed]",
      "text/plain": [
       "<Figure size 720x216 with 1 Axes>"
      ]
     },
     "metadata": {
      "needs_background": "light"
     },
     "output_type": "display_data"
    }
   ],
   "source": [
    "# Proportion figure\n",
    "import numpy as np\n",
    "\n",
    "#calculate the percentage\n",
    "perc = (dh_1.groupby(['year'])['rl'].size() / dh_1.groupby(['year','rl']).count()).mul(100).round(1).unstack(level=1)\n",
    "\n",
    "perc = dh_1.groupby(['year'])['rl'].value_counts(normalize=True).mul(100).round(1).unstack(level=1)\n",
    "perc = pd.crosstab(dh_1.year, dh_1.rl, normalize='index').mul(100).round(1)\n",
    "\n",
    "#plot\n",
    "ax = perc.plot(kind='bar', ylabel=\"Researchers' locations percent(%)\", stacked=True, rot=0, figsize=(10, 3)).legend([\"1 country\",\"2 countries\",\"3 countries\",\"4 countries\"])\n",
    "\n",
    "\n",
    "plt.xlabel('')\n",
    "plt.xticks(rotation=0, ha='center')\n",
    "plt.ylabel(\"Researchers' locations percent(%)\")\n",
    "\n",
    "plt.tight_layout()\n",
    "plt.savefig(\"Collab_percent.pdf\")"
   ]
  },
  {
   "cell_type": "code",
   "execution_count": 76,
   "id": "f3d46530-2ec4-4d41-8077-6a490211bfba",
   "metadata": {},
   "outputs": [
    {
     "data": {
      "text/plain": [
       "year  rl\n",
       "2012  1      1\n",
       "2013  1      2\n",
       "2014  1      2\n",
       "2015  1      1\n",
       "      2      1\n",
       "2016  1      7\n",
       "      2      1\n",
       "2017  1     10\n",
       "      2      5\n",
       "      4      1\n",
       "2018  1     29\n",
       "      2      5\n",
       "      3      1\n",
       "      4      1\n",
       "2019  1     35\n",
       "      2      7\n",
       "      3      2\n",
       "2020  1     71\n",
       "      2     20\n",
       "      3      3\n",
       "      4      1\n",
       "2021  1     79\n",
       "      2     22\n",
       "      3      5\n",
       "      4      2\n",
       "2022  1     19\n",
       "      2      7\n",
       "      3      1\n",
       "dtype: int64"
      ]
     },
     "execution_count": 76,
     "metadata": {},
     "output_type": "execute_result"
    }
   ],
   "source": [
    "dh_1.groupby(['year','rl']).size()"
   ]
  },
  {
   "cell_type": "code",
   "execution_count": 77,
   "id": "2671a26f",
   "metadata": {},
   "outputs": [
    {
     "data": {
      "text/plain": [
       "year\n",
       "2012    1.000000\n",
       "2013    1.000000\n",
       "2014    1.000000\n",
       "2015    1.500000\n",
       "2016    1.125000\n",
       "2017    1.500000\n",
       "2018    1.277778\n",
       "2019    1.250000\n",
       "2020    1.305263\n",
       "2021    1.351852\n",
       "2022    1.333333\n",
       "Name: rl, dtype: float64"
      ]
     },
     "execution_count": 77,
     "metadata": {},
     "output_type": "execute_result"
    }
   ],
   "source": [
    "d1=dh_1.groupby('year')['rl'].mean()\n",
    "d1"
   ]
  },
  {
   "cell_type": "code",
   "execution_count": 78,
   "id": "ac1d2b98",
   "metadata": {},
   "outputs": [
    {
     "data": {
      "text/plain": [
       "Researcher location\n",
       "USA                     94\n",
       "India                   46\n",
       "UK                      39\n",
       "Germany                 18\n",
       "Italy                   16\n",
       "France                  13\n",
       "Saudi Arabia            12\n",
       "Spain                   12\n",
       "Qatar                   12\n",
       "Bangladesh              12\n",
       "Indonesia               11\n",
       "Canada                  11\n",
       "Ireland                 10\n",
       "Russia                  10\n",
       "Pakistan                 9\n",
       "China                    8\n",
       "Turkey                   7\n",
       "Greece                   7\n",
       "Mexico                   7\n",
       "South Korea              6\n",
       "Australia                6\n",
       "Brazil                   5\n",
       "Finland                  5\n",
       "Netherlands              4\n",
       "Denmark                  4\n",
       "Belgium                  4\n",
       "Jordan                   3\n",
       "Malaysia                 3\n",
       "Hong Kong SAR            3\n",
       "Egypt                    3\n",
       "Sweden                   3\n",
       "Tunisia                  3\n",
       "Ecuador                  2\n",
       "Ethiopia                 2\n",
       "Vietnam                  2\n",
       "Bulgaria                 2\n",
       "Chile                    2\n",
       "Taiwan                   2\n",
       "Kazakhstan               2\n",
       "Nigeria                  2\n",
       "Sri Lanka                2\n",
       "Romania                  2\n",
       "Norway                   2\n",
       "Israel                   2\n",
       "Cyprus                   2\n",
       "Croatia                  2\n",
       "South Africa             2\n",
       "Colombia                 1\n",
       "Thailand                 1\n",
       "Austria                  1\n",
       "Serbia                   1\n",
       "Saudi Arabia             1\n",
       "Malta                    1\n",
       "Japan                    1\n",
       "Peru                     1\n",
       "Nepal                    1\n",
       "Iraq                     1\n",
       "Portugal                 1\n",
       "United Arab Emirates     1\n",
       "Name: count, dtype: int64"
      ]
     },
     "execution_count": 78,
     "metadata": {},
     "output_type": "execute_result"
    }
   ],
   "source": [
    "rlcount#.count()59"
   ]
  },
  {
   "cell_type": "code",
   "execution_count": 79,
   "id": "85853fd8",
   "metadata": {},
   "outputs": [
    {
     "data": {
      "text/plain": [
       "Data source\n",
       "GamePressure             1\n",
       "news portals             1\n",
       "online shopping sites    1\n",
       "Naver Movie review       1\n",
       "dcinside.                1\n",
       "Urban Dictionary         1\n",
       "Name: count, dtype: int64"
      ]
     },
     "execution_count": 79,
     "metadata": {},
     "output_type": "execute_result"
    }
   ],
   "source": [
    "source_count[160:]"
   ]
  },
  {
   "cell_type": "code",
   "execution_count": 80,
   "id": "0b99d909",
   "metadata": {},
   "outputs": [
    {
     "data": {
      "text/plain": [
       "format of dataset\n",
       "Github     111\n",
       "Other       42\n",
       "Website     27\n",
       "Name: count, dtype: int64"
      ]
     },
     "execution_count": 80,
     "metadata": {},
     "output_type": "execute_result"
    }
   ],
   "source": [
    "dh_1['format of dataset'].value_counts()"
   ]
  },
  {
   "cell_type": "code",
   "execution_count": 83,
   "id": "9191ce57",
   "metadata": {},
   "outputs": [],
   "source": [
    "#dh_1['format of dataset_3_TEXT'].value_counts()"
   ]
  },
  {
   "cell_type": "markdown",
   "id": "a209e786",
   "metadata": {},
   "source": [
    "visualization locations using world map"
   ]
  },
  {
   "cell_type": "code",
   "execution_count": 92,
   "id": "6661e97b",
   "metadata": {},
   "outputs": [
    {
     "data": {
      "text/plain": [
       "0      Saudi Arabia\n",
       "1               USA\n",
       "2               USA\n",
       "3               USA\n",
       "4         Australia\n",
       "           ...     \n",
       "336             USA\n",
       "337      India, USA\n",
       "338             USA\n",
       "339         Denmark\n",
       "340      USA, Qatar\n",
       "Name: Researcher location, Length: 341, dtype: object"
      ]
     },
     "execution_count": 92,
     "metadata": {},
     "output_type": "execute_result"
    }
   ],
   "source": [
    "# visualization using world map\n",
    "\n",
    "dh_1['Researcher location']"
   ]
  },
  {
   "cell_type": "code",
   "execution_count": 93,
   "id": "1974d88d",
   "metadata": {},
   "outputs": [
    {
     "data": {
      "text/plain": [
       "0      2021\n",
       "1      2019\n",
       "2      2020\n",
       "3      2020\n",
       "4      2021\n",
       "       ... \n",
       "336    2019\n",
       "337    2018\n",
       "338    2021\n",
       "339    2016\n",
       "340    2017\n",
       "Name: year, Length: 341, dtype: object"
      ]
     },
     "execution_count": 93,
     "metadata": {},
     "output_type": "execute_result"
    }
   ],
   "source": [
    "dh_1['year']"
   ]
  },
  {
   "cell_type": "code",
   "execution_count": 611,
   "id": "785531db",
   "metadata": {
    "scrolled": true
   },
   "outputs": [],
   "source": [
    "#split the list of location\n",
    "\n",
    "RL=hacom_1['Researcher location']\n",
    "\n",
    "location = [x for xs in RL for x in xs.split(', ')]\n",
    "#location"
   ]
  },
  {
   "cell_type": "code",
   "execution_count": 773,
   "id": "d5c51c05",
   "metadata": {},
   "outputs": [
    {
     "data": {
      "text/html": [
       "<div>\n",
       "<style scoped>\n",
       "    .dataframe tbody tr th:only-of-type {\n",
       "        vertical-align: middle;\n",
       "    }\n",
       "\n",
       "    .dataframe tbody tr th {\n",
       "        vertical-align: top;\n",
       "    }\n",
       "\n",
       "    .dataframe thead th {\n",
       "        text-align: right;\n",
       "    }\n",
       "</style>\n",
       "<table border=\"1\" class=\"dataframe\">\n",
       "  <thead>\n",
       "    <tr style=\"text-align: right;\">\n",
       "      <th></th>\n",
       "      <th>Researcher location</th>\n",
       "      <th>Number of publications</th>\n",
       "    </tr>\n",
       "  </thead>\n",
       "  <tbody>\n",
       "    <tr>\n",
       "      <th>0</th>\n",
       "      <td>USA</td>\n",
       "      <td>94</td>\n",
       "    </tr>\n",
       "    <tr>\n",
       "      <th>1</th>\n",
       "      <td>India</td>\n",
       "      <td>46</td>\n",
       "    </tr>\n",
       "    <tr>\n",
       "      <th>2</th>\n",
       "      <td>UK</td>\n",
       "      <td>39</td>\n",
       "    </tr>\n",
       "    <tr>\n",
       "      <th>3</th>\n",
       "      <td>Germany</td>\n",
       "      <td>18</td>\n",
       "    </tr>\n",
       "    <tr>\n",
       "      <th>4</th>\n",
       "      <td>Italy</td>\n",
       "      <td>16</td>\n",
       "    </tr>\n",
       "  </tbody>\n",
       "</table>\n",
       "</div>"
      ],
      "text/plain": [
       "  Researcher location  Number of publications\n",
       "0                 USA                      94\n",
       "1               India                      46\n",
       "2                  UK                      39\n",
       "3             Germany                      18\n",
       "4               Italy                      16"
      ]
     },
     "execution_count": 773,
     "metadata": {},
     "output_type": "execute_result"
    }
   ],
   "source": [
    "rlcount.to_csv('researchlocation.csv') \n",
    "rlc = pd.read_csv(\"researchlocation.csv\")\n",
    "rlc = rlc.rename(columns={\"count\": \"Number of publications\"})\n",
    "rlc.head()"
   ]
  },
  {
   "cell_type": "code",
   "execution_count": 813,
   "id": "39ebd145",
   "metadata": {},
   "outputs": [
    {
     "data": {
      "text/html": [
       "<div>\n",
       "<style scoped>\n",
       "    .dataframe tbody tr th:only-of-type {\n",
       "        vertical-align: middle;\n",
       "    }\n",
       "\n",
       "    .dataframe tbody tr th {\n",
       "        vertical-align: top;\n",
       "    }\n",
       "\n",
       "    .dataframe thead th {\n",
       "        text-align: right;\n",
       "    }\n",
       "</style>\n",
       "<table border=\"1\" class=\"dataframe\">\n",
       "  <thead>\n",
       "    <tr style=\"text-align: right;\">\n",
       "      <th></th>\n",
       "      <th>Researcher location</th>\n",
       "      <th>Number of publications</th>\n",
       "      <th>counts</th>\n",
       "      <th>CODE</th>\n",
       "    </tr>\n",
       "  </thead>\n",
       "  <tbody>\n",
       "    <tr>\n",
       "      <th>0</th>\n",
       "      <td>USA</td>\n",
       "      <td>94</td>\n",
       "      <td>115416.284238</td>\n",
       "      <td>USA</td>\n",
       "    </tr>\n",
       "    <tr>\n",
       "      <th>1</th>\n",
       "      <td>India</td>\n",
       "      <td>46</td>\n",
       "      <td>174004.969652</td>\n",
       "      <td>IND</td>\n",
       "    </tr>\n",
       "    <tr>\n",
       "      <th>2</th>\n",
       "      <td>UK</td>\n",
       "      <td>39</td>\n",
       "      <td>126331.501519</td>\n",
       "      <td>GBR</td>\n",
       "    </tr>\n",
       "    <tr>\n",
       "      <th>3</th>\n",
       "      <td>Germany</td>\n",
       "      <td>18</td>\n",
       "      <td>153373.939338</td>\n",
       "      <td>DEU</td>\n",
       "    </tr>\n",
       "    <tr>\n",
       "      <th>4</th>\n",
       "      <td>Italy</td>\n",
       "      <td>16</td>\n",
       "      <td>101457.496249</td>\n",
       "      <td>ITA</td>\n",
       "    </tr>\n",
       "  </tbody>\n",
       "</table>\n",
       "</div>"
      ],
      "text/plain": [
       "  Researcher location  Number of publications         counts CODE\n",
       "0                 USA                      94  115416.284238  USA\n",
       "1               India                      46  174004.969652  IND\n",
       "2                  UK                      39  126331.501519  GBR\n",
       "3             Germany                      18  153373.939338  DEU\n",
       "4               Italy                      16  101457.496249  ITA"
      ]
     },
     "execution_count": 813,
     "metadata": {},
     "output_type": "execute_result"
    }
   ],
   "source": [
    "# generate country code  based on country name \n",
    "import pycountry \n",
    "def alpha3code(column):\n",
    "    CODE=[]\n",
    "    for country in column:\n",
    "        try:\n",
    "            code=pycountry.countries.get(name=country).alpha_3\n",
    "           # .alpha_3 means 3-letter country code \n",
    "           # .alpha_2 means 2-letter country code\n",
    "            CODE.append(code)\n",
    "        except:\n",
    "            CODE.append(country)\n",
    "    return CODE\n",
    "\n",
    "# create a column for code \n",
    "rlc['CODE']=alpha3code(rlc['Researcher location'])\n",
    "rlc['Researcher location']=rlc['Researcher location'].replace(['Saudi\\xa0Arabia'],'Saudi Arabia')\n",
    "rlc['CODE'] = rlc['CODE'].replace(['UK', 'Saudi Arabia', 'Russia', 'South Korea', 'Vietnam', 'Taiwan', 'Hong Kong SAR'],['GBR','SAU','RUS','KOR','VNM','TWN','HKG'])\n",
    "#rlc['CODE'] = rlc['CODE'].replace(['Saudi Arabia'],'SA')\n",
    "\n",
    "rlc.head()\n",
    "\n",
    "#('SA', 'Saudi Arabia')\n",
    "#('RU', 'Russian Federation')\n",
    "#('KR', 'Korea (South)')\n",
    "#('VN', 'Viet Nam')\n",
    "#('TW', 'Taiwan')\n",
    "#('HK', 'Hong Kong')"
   ]
  },
  {
   "cell_type": "code",
   "execution_count": 814,
   "id": "48c263e4",
   "metadata": {},
   "outputs": [
    {
     "data": {
      "text/html": [
       "<div>\n",
       "<style scoped>\n",
       "    .dataframe tbody tr th:only-of-type {\n",
       "        vertical-align: middle;\n",
       "    }\n",
       "\n",
       "    .dataframe tbody tr th {\n",
       "        vertical-align: top;\n",
       "    }\n",
       "\n",
       "    .dataframe thead th {\n",
       "        text-align: right;\n",
       "    }\n",
       "</style>\n",
       "<table border=\"1\" class=\"dataframe\">\n",
       "  <thead>\n",
       "    <tr style=\"text-align: right;\">\n",
       "      <th></th>\n",
       "      <th>Researcher location</th>\n",
       "      <th>Number of publications</th>\n",
       "      <th>counts</th>\n",
       "      <th>CODE</th>\n",
       "    </tr>\n",
       "  </thead>\n",
       "  <tbody>\n",
       "    <tr>\n",
       "      <th>0</th>\n",
       "      <td>USA</td>\n",
       "      <td>94</td>\n",
       "      <td>115416.284238</td>\n",
       "      <td>USA</td>\n",
       "    </tr>\n",
       "    <tr>\n",
       "      <th>1</th>\n",
       "      <td>India</td>\n",
       "      <td>46</td>\n",
       "      <td>174004.969652</td>\n",
       "      <td>IND</td>\n",
       "    </tr>\n",
       "    <tr>\n",
       "      <th>2</th>\n",
       "      <td>UK</td>\n",
       "      <td>39</td>\n",
       "      <td>126331.501519</td>\n",
       "      <td>GBR</td>\n",
       "    </tr>\n",
       "    <tr>\n",
       "      <th>3</th>\n",
       "      <td>Germany</td>\n",
       "      <td>18</td>\n",
       "      <td>153373.939338</td>\n",
       "      <td>DEU</td>\n",
       "    </tr>\n",
       "    <tr>\n",
       "      <th>4</th>\n",
       "      <td>Italy</td>\n",
       "      <td>16</td>\n",
       "      <td>101457.496249</td>\n",
       "      <td>ITA</td>\n",
       "    </tr>\n",
       "    <tr>\n",
       "      <th>5</th>\n",
       "      <td>France</td>\n",
       "      <td>13</td>\n",
       "      <td>191874.700810</td>\n",
       "      <td>FRA</td>\n",
       "    </tr>\n",
       "    <tr>\n",
       "      <th>6</th>\n",
       "      <td>Saudi Arabia</td>\n",
       "      <td>12</td>\n",
       "      <td>190071.485412</td>\n",
       "      <td>SAU</td>\n",
       "    </tr>\n",
       "    <tr>\n",
       "      <th>7</th>\n",
       "      <td>Spain</td>\n",
       "      <td>12</td>\n",
       "      <td>103342.142763</td>\n",
       "      <td>ESP</td>\n",
       "    </tr>\n",
       "    <tr>\n",
       "      <th>8</th>\n",
       "      <td>Qatar</td>\n",
       "      <td>12</td>\n",
       "      <td>195694.933628</td>\n",
       "      <td>QAT</td>\n",
       "    </tr>\n",
       "    <tr>\n",
       "      <th>9</th>\n",
       "      <td>Bangladesh</td>\n",
       "      <td>12</td>\n",
       "      <td>113720.932136</td>\n",
       "      <td>BGD</td>\n",
       "    </tr>\n",
       "  </tbody>\n",
       "</table>\n",
       "</div>"
      ],
      "text/plain": [
       "  Researcher location  Number of publications         counts CODE\n",
       "0                 USA                      94  115416.284238  USA\n",
       "1               India                      46  174004.969652  IND\n",
       "2                  UK                      39  126331.501519  GBR\n",
       "3             Germany                      18  153373.939338  DEU\n",
       "4               Italy                      16  101457.496249  ITA\n",
       "5              France                      13  191874.700810  FRA\n",
       "6        Saudi Arabia                      12  190071.485412  SAU\n",
       "7               Spain                      12  103342.142763  ESP\n",
       "8               Qatar                      12  195694.933628  QAT\n",
       "9          Bangladesh                      12  113720.932136  BGD"
      ]
     },
     "execution_count": 814,
     "metadata": {},
     "output_type": "execute_result"
    }
   ],
   "source": [
    "rlc[:10]"
   ]
  },
  {
   "cell_type": "code",
   "execution_count": 815,
   "id": "14b126a2",
   "metadata": {
    "scrolled": false
   },
   "outputs": [
    {
     "data": {
      "application/vnd.plotly.v1+json": {
       "config": {
        "plotlyServerURL": "https://plot.ly"
       },
       "data": [
        {
         "coloraxis": "coloraxis",
         "geo": "geo",
         "hovertemplate": "<b>%{hovertext}</b><br><br>CODE=%{location}<br>Number of publications=%{z}<extra></extra>",
         "hovertext": [
          "USA",
          "India",
          "UK",
          "Germany",
          "Italy",
          "France",
          "Saudi Arabia",
          "Spain",
          "Qatar",
          "Bangladesh",
          "Indonesia",
          "Canada",
          "Ireland",
          "Russia",
          "Pakistan",
          "China",
          "Turkey",
          "Greece",
          "Mexico",
          "South Korea",
          "Australia",
          "Brazil",
          "Finland",
          "Netherlands",
          "Denmark",
          "Belgium",
          "Jordan",
          "Malaysia",
          "Hong Kong SAR",
          "Egypt",
          "Sweden",
          "Tunisia",
          "Ecuador",
          "Ethiopia",
          "Vietnam",
          "Bulgaria",
          "Chile",
          "Taiwan",
          "Kazakhstan",
          "Nigeria",
          "Sri Lanka",
          "Romania",
          "Norway",
          "Israel",
          "Cyprus",
          "Croatia",
          "South Africa",
          "Colombia",
          "Thailand",
          "Austria",
          "Serbia",
          "Saudi_Arabia",
          "Malta",
          "Japan",
          "Peru",
          "Nepal",
          "Iraq",
          "Portugal",
          "United Arab Emirates"
         ],
         "locationmode": "ISO-3",
         "locations": [
          "USA",
          "IND",
          "GBR",
          "DEU",
          "ITA",
          "FRA",
          "SAU",
          "ESP",
          "QAT",
          "BGD",
          "IDN",
          "CAN",
          "IRL",
          "RUS",
          "PAK",
          "CHN",
          "TUR",
          "GRC",
          "MEX",
          "KOR",
          "AUS",
          "BRA",
          "FIN",
          "NLD",
          "DNK",
          "BEL",
          "JOR",
          "MYS",
          "HKG",
          "EGY",
          "SWE",
          "TUN",
          "ECU",
          "ETH",
          "VNM",
          "BGR",
          "CHL",
          "TWN",
          "KAZ",
          "NGA",
          "LKA",
          "ROU",
          "NOR",
          "ISR",
          "CYP",
          "HRV",
          "ZAF",
          "COL",
          "THA",
          "AUT",
          "SRB",
          "Saudi_Arabia",
          "MLT",
          "JPN",
          "PER",
          "NPL",
          "IRQ",
          "PRT",
          "ARE"
         ],
         "marker": {
          "line": {
           "color": "white",
           "width": 0.5
          }
         },
         "name": "",
         "type": "choropleth",
         "z": [
          94,
          46,
          39,
          18,
          16,
          13,
          12,
          12,
          12,
          12,
          11,
          11,
          10,
          10,
          9,
          8,
          7,
          7,
          7,
          6,
          6,
          5,
          5,
          4,
          4,
          4,
          3,
          3,
          3,
          3,
          3,
          3,
          2,
          2,
          2,
          2,
          2,
          2,
          2,
          2,
          2,
          2,
          2,
          2,
          2,
          2,
          2,
          1,
          1,
          1,
          1,
          1,
          1,
          1,
          1,
          1,
          1,
          1,
          1
         ]
        }
       ],
       "layout": {
        "coloraxis": {
         "colorbar": {
          "len": 0.4,
          "thickness": 15,
          "tickfont": {
           "size": 18
          },
          "title": {
           "text": "Number of publications"
          },
          "x": 0.02,
          "xanchor": "left",
          "y": 0.3,
          "yanchor": "middle"
         },
         "colorscale": [
          [
           0,
           "rgb(247, 254, 174)"
          ],
          [
           0.16666666666666666,
           "rgb(183, 230, 165)"
          ],
          [
           0.3333333333333333,
           "rgb(124, 203, 162)"
          ],
          [
           0.5,
           "rgb(70, 174, 160)"
          ],
          [
           0.6666666666666666,
           "rgb(8, 144, 153)"
          ],
          [
           0.8333333333333334,
           "rgb(0, 113, 139)"
          ],
          [
           1,
           "rgb(4, 82, 117)"
          ]
         ]
        },
        "geo": {
         "center": {},
         "domain": {
          "x": [
           0,
           1
          ],
          "y": [
           0,
           1
          ]
         },
         "projection": {
          "type": "equirectangular"
         },
         "showcoastlines": false,
         "showframe": false
        },
        "legend": {
         "tracegroupgap": 0
        },
        "margin": {
         "t": 60
        },
        "template": {
         "data": {
          "bar": [
           {
            "error_x": {
             "color": "#2a3f5f"
            },
            "error_y": {
             "color": "#2a3f5f"
            },
            "marker": {
             "line": {
              "color": "#E5ECF6",
              "width": 0.5
             },
             "pattern": {
              "fillmode": "overlay",
              "size": 10,
              "solidity": 0.2
             }
            },
            "type": "bar"
           }
          ],
          "barpolar": [
           {
            "marker": {
             "line": {
              "color": "#E5ECF6",
              "width": 0.5
             },
             "pattern": {
              "fillmode": "overlay",
              "size": 10,
              "solidity": 0.2
             }
            },
            "type": "barpolar"
           }
          ],
          "carpet": [
           {
            "aaxis": {
             "endlinecolor": "#2a3f5f",
             "gridcolor": "white",
             "linecolor": "white",
             "minorgridcolor": "white",
             "startlinecolor": "#2a3f5f"
            },
            "baxis": {
             "endlinecolor": "#2a3f5f",
             "gridcolor": "white",
             "linecolor": "white",
             "minorgridcolor": "white",
             "startlinecolor": "#2a3f5f"
            },
            "type": "carpet"
           }
          ],
          "choropleth": [
           {
            "colorbar": {
             "outlinewidth": 0,
             "ticks": ""
            },
            "type": "choropleth"
           }
          ],
          "contour": [
           {
            "colorbar": {
             "outlinewidth": 0,
             "ticks": ""
            },
            "colorscale": [
             [
              0,
              "#0d0887"
             ],
             [
              0.1111111111111111,
              "#46039f"
             ],
             [
              0.2222222222222222,
              "#7201a8"
             ],
             [
              0.3333333333333333,
              "#9c179e"
             ],
             [
              0.4444444444444444,
              "#bd3786"
             ],
             [
              0.5555555555555556,
              "#d8576b"
             ],
             [
              0.6666666666666666,
              "#ed7953"
             ],
             [
              0.7777777777777778,
              "#fb9f3a"
             ],
             [
              0.8888888888888888,
              "#fdca26"
             ],
             [
              1,
              "#f0f921"
             ]
            ],
            "type": "contour"
           }
          ],
          "contourcarpet": [
           {
            "colorbar": {
             "outlinewidth": 0,
             "ticks": ""
            },
            "type": "contourcarpet"
           }
          ],
          "heatmap": [
           {
            "colorbar": {
             "outlinewidth": 0,
             "ticks": ""
            },
            "colorscale": [
             [
              0,
              "#0d0887"
             ],
             [
              0.1111111111111111,
              "#46039f"
             ],
             [
              0.2222222222222222,
              "#7201a8"
             ],
             [
              0.3333333333333333,
              "#9c179e"
             ],
             [
              0.4444444444444444,
              "#bd3786"
             ],
             [
              0.5555555555555556,
              "#d8576b"
             ],
             [
              0.6666666666666666,
              "#ed7953"
             ],
             [
              0.7777777777777778,
              "#fb9f3a"
             ],
             [
              0.8888888888888888,
              "#fdca26"
             ],
             [
              1,
              "#f0f921"
             ]
            ],
            "type": "heatmap"
           }
          ],
          "heatmapgl": [
           {
            "colorbar": {
             "outlinewidth": 0,
             "ticks": ""
            },
            "colorscale": [
             [
              0,
              "#0d0887"
             ],
             [
              0.1111111111111111,
              "#46039f"
             ],
             [
              0.2222222222222222,
              "#7201a8"
             ],
             [
              0.3333333333333333,
              "#9c179e"
             ],
             [
              0.4444444444444444,
              "#bd3786"
             ],
             [
              0.5555555555555556,
              "#d8576b"
             ],
             [
              0.6666666666666666,
              "#ed7953"
             ],
             [
              0.7777777777777778,
              "#fb9f3a"
             ],
             [
              0.8888888888888888,
              "#fdca26"
             ],
             [
              1,
              "#f0f921"
             ]
            ],
            "type": "heatmapgl"
           }
          ],
          "histogram": [
           {
            "marker": {
             "pattern": {
              "fillmode": "overlay",
              "size": 10,
              "solidity": 0.2
             }
            },
            "type": "histogram"
           }
          ],
          "histogram2d": [
           {
            "colorbar": {
             "outlinewidth": 0,
             "ticks": ""
            },
            "colorscale": [
             [
              0,
              "#0d0887"
             ],
             [
              0.1111111111111111,
              "#46039f"
             ],
             [
              0.2222222222222222,
              "#7201a8"
             ],
             [
              0.3333333333333333,
              "#9c179e"
             ],
             [
              0.4444444444444444,
              "#bd3786"
             ],
             [
              0.5555555555555556,
              "#d8576b"
             ],
             [
              0.6666666666666666,
              "#ed7953"
             ],
             [
              0.7777777777777778,
              "#fb9f3a"
             ],
             [
              0.8888888888888888,
              "#fdca26"
             ],
             [
              1,
              "#f0f921"
             ]
            ],
            "type": "histogram2d"
           }
          ],
          "histogram2dcontour": [
           {
            "colorbar": {
             "outlinewidth": 0,
             "ticks": ""
            },
            "colorscale": [
             [
              0,
              "#0d0887"
             ],
             [
              0.1111111111111111,
              "#46039f"
             ],
             [
              0.2222222222222222,
              "#7201a8"
             ],
             [
              0.3333333333333333,
              "#9c179e"
             ],
             [
              0.4444444444444444,
              "#bd3786"
             ],
             [
              0.5555555555555556,
              "#d8576b"
             ],
             [
              0.6666666666666666,
              "#ed7953"
             ],
             [
              0.7777777777777778,
              "#fb9f3a"
             ],
             [
              0.8888888888888888,
              "#fdca26"
             ],
             [
              1,
              "#f0f921"
             ]
            ],
            "type": "histogram2dcontour"
           }
          ],
          "mesh3d": [
           {
            "colorbar": {
             "outlinewidth": 0,
             "ticks": ""
            },
            "type": "mesh3d"
           }
          ],
          "parcoords": [
           {
            "line": {
             "colorbar": {
              "outlinewidth": 0,
              "ticks": ""
             }
            },
            "type": "parcoords"
           }
          ],
          "pie": [
           {
            "automargin": true,
            "type": "pie"
           }
          ],
          "scatter": [
           {
            "marker": {
             "colorbar": {
              "outlinewidth": 0,
              "ticks": ""
             }
            },
            "type": "scatter"
           }
          ],
          "scatter3d": [
           {
            "line": {
             "colorbar": {
              "outlinewidth": 0,
              "ticks": ""
             }
            },
            "marker": {
             "colorbar": {
              "outlinewidth": 0,
              "ticks": ""
             }
            },
            "type": "scatter3d"
           }
          ],
          "scattercarpet": [
           {
            "marker": {
             "colorbar": {
              "outlinewidth": 0,
              "ticks": ""
             }
            },
            "type": "scattercarpet"
           }
          ],
          "scattergeo": [
           {
            "marker": {
             "colorbar": {
              "outlinewidth": 0,
              "ticks": ""
             }
            },
            "type": "scattergeo"
           }
          ],
          "scattergl": [
           {
            "marker": {
             "colorbar": {
              "outlinewidth": 0,
              "ticks": ""
             }
            },
            "type": "scattergl"
           }
          ],
          "scattermapbox": [
           {
            "marker": {
             "colorbar": {
              "outlinewidth": 0,
              "ticks": ""
             }
            },
            "type": "scattermapbox"
           }
          ],
          "scatterpolar": [
           {
            "marker": {
             "colorbar": {
              "outlinewidth": 0,
              "ticks": ""
             }
            },
            "type": "scatterpolar"
           }
          ],
          "scatterpolargl": [
           {
            "marker": {
             "colorbar": {
              "outlinewidth": 0,
              "ticks": ""
             }
            },
            "type": "scatterpolargl"
           }
          ],
          "scatterternary": [
           {
            "marker": {
             "colorbar": {
              "outlinewidth": 0,
              "ticks": ""
             }
            },
            "type": "scatterternary"
           }
          ],
          "surface": [
           {
            "colorbar": {
             "outlinewidth": 0,
             "ticks": ""
            },
            "colorscale": [
             [
              0,
              "#0d0887"
             ],
             [
              0.1111111111111111,
              "#46039f"
             ],
             [
              0.2222222222222222,
              "#7201a8"
             ],
             [
              0.3333333333333333,
              "#9c179e"
             ],
             [
              0.4444444444444444,
              "#bd3786"
             ],
             [
              0.5555555555555556,
              "#d8576b"
             ],
             [
              0.6666666666666666,
              "#ed7953"
             ],
             [
              0.7777777777777778,
              "#fb9f3a"
             ],
             [
              0.8888888888888888,
              "#fdca26"
             ],
             [
              1,
              "#f0f921"
             ]
            ],
            "type": "surface"
           }
          ],
          "table": [
           {
            "cells": {
             "fill": {
              "color": "#EBF0F8"
             },
             "line": {
              "color": "white"
             }
            },
            "header": {
             "fill": {
              "color": "#C8D4E3"
             },
             "line": {
              "color": "white"
             }
            },
            "type": "table"
           }
          ]
         },
         "layout": {
          "annotationdefaults": {
           "arrowcolor": "#2a3f5f",
           "arrowhead": 0,
           "arrowwidth": 1
          },
          "autotypenumbers": "strict",
          "coloraxis": {
           "colorbar": {
            "outlinewidth": 0,
            "ticks": ""
           }
          },
          "colorscale": {
           "diverging": [
            [
             0,
             "#8e0152"
            ],
            [
             0.1,
             "#c51b7d"
            ],
            [
             0.2,
             "#de77ae"
            ],
            [
             0.3,
             "#f1b6da"
            ],
            [
             0.4,
             "#fde0ef"
            ],
            [
             0.5,
             "#f7f7f7"
            ],
            [
             0.6,
             "#e6f5d0"
            ],
            [
             0.7,
             "#b8e186"
            ],
            [
             0.8,
             "#7fbc41"
            ],
            [
             0.9,
             "#4d9221"
            ],
            [
             1,
             "#276419"
            ]
           ],
           "sequential": [
            [
             0,
             "#0d0887"
            ],
            [
             0.1111111111111111,
             "#46039f"
            ],
            [
             0.2222222222222222,
             "#7201a8"
            ],
            [
             0.3333333333333333,
             "#9c179e"
            ],
            [
             0.4444444444444444,
             "#bd3786"
            ],
            [
             0.5555555555555556,
             "#d8576b"
            ],
            [
             0.6666666666666666,
             "#ed7953"
            ],
            [
             0.7777777777777778,
             "#fb9f3a"
            ],
            [
             0.8888888888888888,
             "#fdca26"
            ],
            [
             1,
             "#f0f921"
            ]
           ],
           "sequentialminus": [
            [
             0,
             "#0d0887"
            ],
            [
             0.1111111111111111,
             "#46039f"
            ],
            [
             0.2222222222222222,
             "#7201a8"
            ],
            [
             0.3333333333333333,
             "#9c179e"
            ],
            [
             0.4444444444444444,
             "#bd3786"
            ],
            [
             0.5555555555555556,
             "#d8576b"
            ],
            [
             0.6666666666666666,
             "#ed7953"
            ],
            [
             0.7777777777777778,
             "#fb9f3a"
            ],
            [
             0.8888888888888888,
             "#fdca26"
            ],
            [
             1,
             "#f0f921"
            ]
           ]
          },
          "colorway": [
           "#636efa",
           "#EF553B",
           "#00cc96",
           "#ab63fa",
           "#FFA15A",
           "#19d3f3",
           "#FF6692",
           "#B6E880",
           "#FF97FF",
           "#FECB52"
          ],
          "font": {
           "color": "#2a3f5f"
          },
          "geo": {
           "bgcolor": "white",
           "lakecolor": "white",
           "landcolor": "#E5ECF6",
           "showlakes": true,
           "showland": true,
           "subunitcolor": "white"
          },
          "hoverlabel": {
           "align": "left"
          },
          "hovermode": "closest",
          "mapbox": {
           "style": "light"
          },
          "paper_bgcolor": "white",
          "plot_bgcolor": "#E5ECF6",
          "polar": {
           "angularaxis": {
            "gridcolor": "white",
            "linecolor": "white",
            "ticks": ""
           },
           "bgcolor": "#E5ECF6",
           "radialaxis": {
            "gridcolor": "white",
            "linecolor": "white",
            "ticks": ""
           }
          },
          "scene": {
           "xaxis": {
            "backgroundcolor": "#E5ECF6",
            "gridcolor": "white",
            "gridwidth": 2,
            "linecolor": "white",
            "showbackground": true,
            "ticks": "",
            "zerolinecolor": "white"
           },
           "yaxis": {
            "backgroundcolor": "#E5ECF6",
            "gridcolor": "white",
            "gridwidth": 2,
            "linecolor": "white",
            "showbackground": true,
            "ticks": "",
            "zerolinecolor": "white"
           },
           "zaxis": {
            "backgroundcolor": "#E5ECF6",
            "gridcolor": "white",
            "gridwidth": 2,
            "linecolor": "white",
            "showbackground": true,
            "ticks": "",
            "zerolinecolor": "white"
           }
          },
          "shapedefaults": {
           "line": {
            "color": "#2a3f5f"
           }
          },
          "ternary": {
           "aaxis": {
            "gridcolor": "white",
            "linecolor": "white",
            "ticks": ""
           },
           "baxis": {
            "gridcolor": "white",
            "linecolor": "white",
            "ticks": ""
           },
           "bgcolor": "#E5ECF6",
           "caxis": {
            "gridcolor": "white",
            "linecolor": "white",
            "ticks": ""
           }
          },
          "title": {
           "x": 0.05
          },
          "xaxis": {
           "automargin": true,
           "gridcolor": "white",
           "linecolor": "white",
           "ticks": "",
           "title": {
            "standoff": 15
           },
           "zerolinecolor": "white",
           "zerolinewidth": 2
          },
          "yaxis": {
           "automargin": true,
           "gridcolor": "white",
           "linecolor": "white",
           "ticks": "",
           "title": {
            "standoff": 15
           },
           "zerolinecolor": "white",
           "zerolinewidth": 2
          }
         }
        }
       }
      },
      "text/html": [
       "<div>                            <div id=\"acb58997-9a02-489a-a517-8d687cd70a91\" class=\"plotly-graph-div\" style=\"height:525px; width:100%;\"></div>            <script type=\"text/javascript\">                require([\"plotly\"], function(Plotly) {                    window.PLOTLYENV=window.PLOTLYENV || {};                                    if (document.getElementById(\"acb58997-9a02-489a-a517-8d687cd70a91\")) {                    Plotly.newPlot(                        \"acb58997-9a02-489a-a517-8d687cd70a91\",                        [{\"coloraxis\":\"coloraxis\",\"geo\":\"geo\",\"hovertemplate\":\"<b>%{hovertext}</b><br><br>CODE=%{location}<br>Number of publications=%{z}<extra></extra>\",\"hovertext\":[\"USA\",\"India\",\"UK\",\"Germany\",\"Italy\",\"France\",\"Saudi Arabia\",\"Spain\",\"Qatar\",\"Bangladesh\",\"Indonesia\",\"Canada\",\"Ireland\",\"Russia\",\"Pakistan\",\"China\",\"Turkey\",\"Greece\",\"Mexico\",\"South Korea\",\"Australia\",\"Brazil\",\"Finland\",\"Netherlands\",\"Denmark\",\"Belgium\",\"Jordan\",\"Malaysia\",\"Hong Kong SAR\",\"Egypt\",\"Sweden\",\"Tunisia\",\"Ecuador\",\"Ethiopia\",\"Vietnam\",\"Bulgaria\",\"Chile\",\"Taiwan\",\"Kazakhstan\",\"Nigeria\",\"Sri Lanka\",\"Romania\",\"Norway\",\"Israel\",\"Cyprus\",\"Croatia\",\"South Africa\",\"Colombia\",\"Thailand\",\"Austria\",\"Serbia\",\"Saudi_Arabia\",\"Malta\",\"Japan\",\"Peru\",\"Nepal\",\"Iraq\",\"Portugal\",\"United Arab Emirates\"],\"locationmode\":\"ISO-3\",\"locations\":[\"USA\",\"IND\",\"GBR\",\"DEU\",\"ITA\",\"FRA\",\"SAU\",\"ESP\",\"QAT\",\"BGD\",\"IDN\",\"CAN\",\"IRL\",\"RUS\",\"PAK\",\"CHN\",\"TUR\",\"GRC\",\"MEX\",\"KOR\",\"AUS\",\"BRA\",\"FIN\",\"NLD\",\"DNK\",\"BEL\",\"JOR\",\"MYS\",\"HKG\",\"EGY\",\"SWE\",\"TUN\",\"ECU\",\"ETH\",\"VNM\",\"BGR\",\"CHL\",\"TWN\",\"KAZ\",\"NGA\",\"LKA\",\"ROU\",\"NOR\",\"ISR\",\"CYP\",\"HRV\",\"ZAF\",\"COL\",\"THA\",\"AUT\",\"SRB\",\"Saudi_Arabia\",\"MLT\",\"JPN\",\"PER\",\"NPL\",\"IRQ\",\"PRT\",\"ARE\"],\"name\":\"\",\"z\":[94,46,39,18,16,13,12,12,12,12,11,11,10,10,9,8,7,7,7,6,6,5,5,4,4,4,3,3,3,3,3,3,2,2,2,2,2,2,2,2,2,2,2,2,2,2,2,1,1,1,1,1,1,1,1,1,1,1,1],\"type\":\"choropleth\",\"marker\":{\"line\":{\"color\":\"white\",\"width\":0.5}}}],                        {\"template\":{\"data\":{\"bar\":[{\"error_x\":{\"color\":\"#2a3f5f\"},\"error_y\":{\"color\":\"#2a3f5f\"},\"marker\":{\"line\":{\"color\":\"#E5ECF6\",\"width\":0.5},\"pattern\":{\"fillmode\":\"overlay\",\"size\":10,\"solidity\":0.2}},\"type\":\"bar\"}],\"barpolar\":[{\"marker\":{\"line\":{\"color\":\"#E5ECF6\",\"width\":0.5},\"pattern\":{\"fillmode\":\"overlay\",\"size\":10,\"solidity\":0.2}},\"type\":\"barpolar\"}],\"carpet\":[{\"aaxis\":{\"endlinecolor\":\"#2a3f5f\",\"gridcolor\":\"white\",\"linecolor\":\"white\",\"minorgridcolor\":\"white\",\"startlinecolor\":\"#2a3f5f\"},\"baxis\":{\"endlinecolor\":\"#2a3f5f\",\"gridcolor\":\"white\",\"linecolor\":\"white\",\"minorgridcolor\":\"white\",\"startlinecolor\":\"#2a3f5f\"},\"type\":\"carpet\"}],\"choropleth\":[{\"colorbar\":{\"outlinewidth\":0,\"ticks\":\"\"},\"type\":\"choropleth\"}],\"contour\":[{\"colorbar\":{\"outlinewidth\":0,\"ticks\":\"\"},\"colorscale\":[[0.0,\"#0d0887\"],[0.1111111111111111,\"#46039f\"],[0.2222222222222222,\"#7201a8\"],[0.3333333333333333,\"#9c179e\"],[0.4444444444444444,\"#bd3786\"],[0.5555555555555556,\"#d8576b\"],[0.6666666666666666,\"#ed7953\"],[0.7777777777777778,\"#fb9f3a\"],[0.8888888888888888,\"#fdca26\"],[1.0,\"#f0f921\"]],\"type\":\"contour\"}],\"contourcarpet\":[{\"colorbar\":{\"outlinewidth\":0,\"ticks\":\"\"},\"type\":\"contourcarpet\"}],\"heatmap\":[{\"colorbar\":{\"outlinewidth\":0,\"ticks\":\"\"},\"colorscale\":[[0.0,\"#0d0887\"],[0.1111111111111111,\"#46039f\"],[0.2222222222222222,\"#7201a8\"],[0.3333333333333333,\"#9c179e\"],[0.4444444444444444,\"#bd3786\"],[0.5555555555555556,\"#d8576b\"],[0.6666666666666666,\"#ed7953\"],[0.7777777777777778,\"#fb9f3a\"],[0.8888888888888888,\"#fdca26\"],[1.0,\"#f0f921\"]],\"type\":\"heatmap\"}],\"heatmapgl\":[{\"colorbar\":{\"outlinewidth\":0,\"ticks\":\"\"},\"colorscale\":[[0.0,\"#0d0887\"],[0.1111111111111111,\"#46039f\"],[0.2222222222222222,\"#7201a8\"],[0.3333333333333333,\"#9c179e\"],[0.4444444444444444,\"#bd3786\"],[0.5555555555555556,\"#d8576b\"],[0.6666666666666666,\"#ed7953\"],[0.7777777777777778,\"#fb9f3a\"],[0.8888888888888888,\"#fdca26\"],[1.0,\"#f0f921\"]],\"type\":\"heatmapgl\"}],\"histogram\":[{\"marker\":{\"pattern\":{\"fillmode\":\"overlay\",\"size\":10,\"solidity\":0.2}},\"type\":\"histogram\"}],\"histogram2d\":[{\"colorbar\":{\"outlinewidth\":0,\"ticks\":\"\"},\"colorscale\":[[0.0,\"#0d0887\"],[0.1111111111111111,\"#46039f\"],[0.2222222222222222,\"#7201a8\"],[0.3333333333333333,\"#9c179e\"],[0.4444444444444444,\"#bd3786\"],[0.5555555555555556,\"#d8576b\"],[0.6666666666666666,\"#ed7953\"],[0.7777777777777778,\"#fb9f3a\"],[0.8888888888888888,\"#fdca26\"],[1.0,\"#f0f921\"]],\"type\":\"histogram2d\"}],\"histogram2dcontour\":[{\"colorbar\":{\"outlinewidth\":0,\"ticks\":\"\"},\"colorscale\":[[0.0,\"#0d0887\"],[0.1111111111111111,\"#46039f\"],[0.2222222222222222,\"#7201a8\"],[0.3333333333333333,\"#9c179e\"],[0.4444444444444444,\"#bd3786\"],[0.5555555555555556,\"#d8576b\"],[0.6666666666666666,\"#ed7953\"],[0.7777777777777778,\"#fb9f3a\"],[0.8888888888888888,\"#fdca26\"],[1.0,\"#f0f921\"]],\"type\":\"histogram2dcontour\"}],\"mesh3d\":[{\"colorbar\":{\"outlinewidth\":0,\"ticks\":\"\"},\"type\":\"mesh3d\"}],\"parcoords\":[{\"line\":{\"colorbar\":{\"outlinewidth\":0,\"ticks\":\"\"}},\"type\":\"parcoords\"}],\"pie\":[{\"automargin\":true,\"type\":\"pie\"}],\"scatter\":[{\"marker\":{\"colorbar\":{\"outlinewidth\":0,\"ticks\":\"\"}},\"type\":\"scatter\"}],\"scatter3d\":[{\"line\":{\"colorbar\":{\"outlinewidth\":0,\"ticks\":\"\"}},\"marker\":{\"colorbar\":{\"outlinewidth\":0,\"ticks\":\"\"}},\"type\":\"scatter3d\"}],\"scattercarpet\":[{\"marker\":{\"colorbar\":{\"outlinewidth\":0,\"ticks\":\"\"}},\"type\":\"scattercarpet\"}],\"scattergeo\":[{\"marker\":{\"colorbar\":{\"outlinewidth\":0,\"ticks\":\"\"}},\"type\":\"scattergeo\"}],\"scattergl\":[{\"marker\":{\"colorbar\":{\"outlinewidth\":0,\"ticks\":\"\"}},\"type\":\"scattergl\"}],\"scattermapbox\":[{\"marker\":{\"colorbar\":{\"outlinewidth\":0,\"ticks\":\"\"}},\"type\":\"scattermapbox\"}],\"scatterpolar\":[{\"marker\":{\"colorbar\":{\"outlinewidth\":0,\"ticks\":\"\"}},\"type\":\"scatterpolar\"}],\"scatterpolargl\":[{\"marker\":{\"colorbar\":{\"outlinewidth\":0,\"ticks\":\"\"}},\"type\":\"scatterpolargl\"}],\"scatterternary\":[{\"marker\":{\"colorbar\":{\"outlinewidth\":0,\"ticks\":\"\"}},\"type\":\"scatterternary\"}],\"surface\":[{\"colorbar\":{\"outlinewidth\":0,\"ticks\":\"\"},\"colorscale\":[[0.0,\"#0d0887\"],[0.1111111111111111,\"#46039f\"],[0.2222222222222222,\"#7201a8\"],[0.3333333333333333,\"#9c179e\"],[0.4444444444444444,\"#bd3786\"],[0.5555555555555556,\"#d8576b\"],[0.6666666666666666,\"#ed7953\"],[0.7777777777777778,\"#fb9f3a\"],[0.8888888888888888,\"#fdca26\"],[1.0,\"#f0f921\"]],\"type\":\"surface\"}],\"table\":[{\"cells\":{\"fill\":{\"color\":\"#EBF0F8\"},\"line\":{\"color\":\"white\"}},\"header\":{\"fill\":{\"color\":\"#C8D4E3\"},\"line\":{\"color\":\"white\"}},\"type\":\"table\"}]},\"layout\":{\"annotationdefaults\":{\"arrowcolor\":\"#2a3f5f\",\"arrowhead\":0,\"arrowwidth\":1},\"autotypenumbers\":\"strict\",\"coloraxis\":{\"colorbar\":{\"outlinewidth\":0,\"ticks\":\"\"}},\"colorscale\":{\"diverging\":[[0,\"#8e0152\"],[0.1,\"#c51b7d\"],[0.2,\"#de77ae\"],[0.3,\"#f1b6da\"],[0.4,\"#fde0ef\"],[0.5,\"#f7f7f7\"],[0.6,\"#e6f5d0\"],[0.7,\"#b8e186\"],[0.8,\"#7fbc41\"],[0.9,\"#4d9221\"],[1,\"#276419\"]],\"sequential\":[[0.0,\"#0d0887\"],[0.1111111111111111,\"#46039f\"],[0.2222222222222222,\"#7201a8\"],[0.3333333333333333,\"#9c179e\"],[0.4444444444444444,\"#bd3786\"],[0.5555555555555556,\"#d8576b\"],[0.6666666666666666,\"#ed7953\"],[0.7777777777777778,\"#fb9f3a\"],[0.8888888888888888,\"#fdca26\"],[1.0,\"#f0f921\"]],\"sequentialminus\":[[0.0,\"#0d0887\"],[0.1111111111111111,\"#46039f\"],[0.2222222222222222,\"#7201a8\"],[0.3333333333333333,\"#9c179e\"],[0.4444444444444444,\"#bd3786\"],[0.5555555555555556,\"#d8576b\"],[0.6666666666666666,\"#ed7953\"],[0.7777777777777778,\"#fb9f3a\"],[0.8888888888888888,\"#fdca26\"],[1.0,\"#f0f921\"]]},\"colorway\":[\"#636efa\",\"#EF553B\",\"#00cc96\",\"#ab63fa\",\"#FFA15A\",\"#19d3f3\",\"#FF6692\",\"#B6E880\",\"#FF97FF\",\"#FECB52\"],\"font\":{\"color\":\"#2a3f5f\"},\"geo\":{\"bgcolor\":\"white\",\"lakecolor\":\"white\",\"landcolor\":\"#E5ECF6\",\"showlakes\":true,\"showland\":true,\"subunitcolor\":\"white\"},\"hoverlabel\":{\"align\":\"left\"},\"hovermode\":\"closest\",\"mapbox\":{\"style\":\"light\"},\"paper_bgcolor\":\"white\",\"plot_bgcolor\":\"#E5ECF6\",\"polar\":{\"angularaxis\":{\"gridcolor\":\"white\",\"linecolor\":\"white\",\"ticks\":\"\"},\"bgcolor\":\"#E5ECF6\",\"radialaxis\":{\"gridcolor\":\"white\",\"linecolor\":\"white\",\"ticks\":\"\"}},\"scene\":{\"xaxis\":{\"backgroundcolor\":\"#E5ECF6\",\"gridcolor\":\"white\",\"gridwidth\":2,\"linecolor\":\"white\",\"showbackground\":true,\"ticks\":\"\",\"zerolinecolor\":\"white\"},\"yaxis\":{\"backgroundcolor\":\"#E5ECF6\",\"gridcolor\":\"white\",\"gridwidth\":2,\"linecolor\":\"white\",\"showbackground\":true,\"ticks\":\"\",\"zerolinecolor\":\"white\"},\"zaxis\":{\"backgroundcolor\":\"#E5ECF6\",\"gridcolor\":\"white\",\"gridwidth\":2,\"linecolor\":\"white\",\"showbackground\":true,\"ticks\":\"\",\"zerolinecolor\":\"white\"}},\"shapedefaults\":{\"line\":{\"color\":\"#2a3f5f\"}},\"ternary\":{\"aaxis\":{\"gridcolor\":\"white\",\"linecolor\":\"white\",\"ticks\":\"\"},\"baxis\":{\"gridcolor\":\"white\",\"linecolor\":\"white\",\"ticks\":\"\"},\"bgcolor\":\"#E5ECF6\",\"caxis\":{\"gridcolor\":\"white\",\"linecolor\":\"white\",\"ticks\":\"\"}},\"title\":{\"x\":0.05},\"xaxis\":{\"automargin\":true,\"gridcolor\":\"white\",\"linecolor\":\"white\",\"ticks\":\"\",\"title\":{\"standoff\":15},\"zerolinecolor\":\"white\",\"zerolinewidth\":2},\"yaxis\":{\"automargin\":true,\"gridcolor\":\"white\",\"linecolor\":\"white\",\"ticks\":\"\",\"title\":{\"standoff\":15},\"zerolinecolor\":\"white\",\"zerolinewidth\":2}}},\"geo\":{\"domain\":{\"x\":[0.0,1.0],\"y\":[0.0,1.0]},\"center\":{},\"projection\":{\"type\":\"equirectangular\"},\"showframe\":false,\"showcoastlines\":false},\"coloraxis\":{\"colorbar\":{\"title\":{\"text\":\"Number of publications\"},\"tickfont\":{\"size\":18},\"len\":0.4,\"thickness\":15,\"xanchor\":\"left\",\"yanchor\":\"middle\",\"x\":0.02,\"y\":0.3},\"colorscale\":[[0.0,\"rgb(247, 254, 174)\"],[0.16666666666666666,\"rgb(183, 230, 165)\"],[0.3333333333333333,\"rgb(124, 203, 162)\"],[0.5,\"rgb(70, 174, 160)\"],[0.6666666666666666,\"rgb(8, 144, 153)\"],[0.8333333333333334,\"rgb(0, 113, 139)\"],[1.0,\"rgb(4, 82, 117)\"]]},\"legend\":{\"tracegroupgap\":0},\"margin\":{\"t\":60}},                        {\"responsive\": true}                    ).then(function(){\n",
       "                            \n",
       "var gd = document.getElementById('acb58997-9a02-489a-a517-8d687cd70a91');\n",
       "var x = new MutationObserver(function (mutations, observer) {{\n",
       "        var display = window.getComputedStyle(gd).display;\n",
       "        if (!display || display === 'none') {{\n",
       "            console.log([gd, 'removed!']);\n",
       "            Plotly.purge(gd);\n",
       "            observer.disconnect();\n",
       "        }}\n",
       "}});\n",
       "\n",
       "// Listen for the removal of the full notebook cells\n",
       "var notebookContainer = gd.closest('#notebook-container');\n",
       "if (notebookContainer) {{\n",
       "    x.observe(notebookContainer, {childList: true});\n",
       "}}\n",
       "\n",
       "// Listen for the clearing of the current output cell\n",
       "var outputEl = gd.closest('.output');\n",
       "if (outputEl) {{\n",
       "    x.observe(outputEl, {childList: true});\n",
       "}}\n",
       "\n",
       "                        })                };                });            </script>        </div>"
      ]
     },
     "metadata": {},
     "output_type": "display_data"
    }
   ],
   "source": [
    "import pandas as pd\n",
    "import numpy as np\n",
    "import io\n",
    "\n",
    "#country = pd.read_csv(io.StringIO(data), delim_whitespace=True)\n",
    "\n",
    "import plotly.express as px\n",
    "\n",
    "np.random.seed(12)\n",
    "gapminder = rlc\n",
    "gapminder['counts'] = np.random.uniform(low=100000, high=200000, size=len(gapminder)).tolist()\n",
    "\n",
    "fig = px.choropleth(gapminder, locations=\"CODE\",\n",
    "                    locationmode='ISO-3',\n",
    "                    color=\"Number of publications\",\n",
    "                    hover_name=\"Researcher location\",\n",
    "                   color_continuous_scale=px.colors.sequential.Bluyl)\n",
    "                   #title=\"Number of publications\")\n",
    "                    #color_continuous_scale=px.colors.sequential.Viridis_r)\n",
    "fig.update_traces(marker_line_color='white',marker_line_width=0.5)\n",
    "fig.update_layout(geo=dict(\n",
    "        showframe=False,\n",
    "        showcoastlines=False,\n",
    "        projection_type='equirectangular'),\n",
    "        coloraxis_colorbar_len=0.4,\n",
    "        coloraxis_colorbar_thickness=15,\n",
    "        #coloraxis_colorbar_bgcolor=\"white\",\n",
    "        coloraxis_colorbar_xanchor=\"left\",\n",
    "        coloraxis_colorbar_yanchor=\"middle\",\n",
    "        coloraxis_colorbar_x=0.02,\n",
    "        coloraxis_colorbar_y=0.3,\n",
    "        coloraxis_colorbar_tickfont_size=18)\n",
    "\n",
    "fig.show()\n",
    "\n",
    "\n",
    "fig.write_html(file='country_publication.html')\n"
   ]
  },
  {
   "cell_type": "code",
   "execution_count": 764,
   "id": "fa568a5f",
   "metadata": {},
   "outputs": [],
   "source": [
    "from collections import Counter\n",
    "\n",
    "countries = hacom_1['Researcher location'].str.split(', ').values\n",
    "# converting from paper level to dataset level\n",
    "countries = [i * int(hacom_1['Number of new datasets'][n]) for n, i in enumerate(countries)]\n",
    "country_list = [item for sublist in countries for item in sublist]\n",
    "countries_df = pd.DataFrame(Counter(country_list).most_common(40))\n",
    "countries_df.columns = ['Researcher location', 'Number of Datasets']\n",
    "#countries_df = countries_df.set_index('Researcher location')"
   ]
  },
  {
   "cell_type": "code",
   "execution_count": 765,
   "id": "b53dbe61",
   "metadata": {},
   "outputs": [
    {
     "data": {
      "text/html": [
       "<div>\n",
       "<style scoped>\n",
       "    .dataframe tbody tr th:only-of-type {\n",
       "        vertical-align: middle;\n",
       "    }\n",
       "\n",
       "    .dataframe tbody tr th {\n",
       "        vertical-align: top;\n",
       "    }\n",
       "\n",
       "    .dataframe thead th {\n",
       "        text-align: right;\n",
       "    }\n",
       "</style>\n",
       "<table border=\"1\" class=\"dataframe\">\n",
       "  <thead>\n",
       "    <tr style=\"text-align: right;\">\n",
       "      <th></th>\n",
       "      <th>Researcher location</th>\n",
       "      <th>Number of Datasets</th>\n",
       "    </tr>\n",
       "  </thead>\n",
       "  <tbody>\n",
       "    <tr>\n",
       "      <th>0</th>\n",
       "      <td>USA</td>\n",
       "      <td>135</td>\n",
       "    </tr>\n",
       "    <tr>\n",
       "      <th>1</th>\n",
       "      <td>India</td>\n",
       "      <td>57</td>\n",
       "    </tr>\n",
       "    <tr>\n",
       "      <th>2</th>\n",
       "      <td>UK</td>\n",
       "      <td>57</td>\n",
       "    </tr>\n",
       "    <tr>\n",
       "      <th>3</th>\n",
       "      <td>Germany</td>\n",
       "      <td>32</td>\n",
       "    </tr>\n",
       "    <tr>\n",
       "      <th>4</th>\n",
       "      <td>Italy</td>\n",
       "      <td>32</td>\n",
       "    </tr>\n",
       "  </tbody>\n",
       "</table>\n",
       "</div>"
      ],
      "text/plain": [
       "  Researcher location  Number of Datasets\n",
       "0                 USA                 135\n",
       "1               India                  57\n",
       "2                  UK                  57\n",
       "3             Germany                  32\n",
       "4               Italy                  32"
      ]
     },
     "execution_count": 765,
     "metadata": {},
     "output_type": "execute_result"
    }
   ],
   "source": [
    "countries_df[:5]"
   ]
  },
  {
   "cell_type": "code",
   "execution_count": 775,
   "id": "a69c587d",
   "metadata": {},
   "outputs": [
    {
     "data": {
      "text/html": [
       "<div>\n",
       "<style scoped>\n",
       "    .dataframe tbody tr th:only-of-type {\n",
       "        vertical-align: middle;\n",
       "    }\n",
       "\n",
       "    .dataframe tbody tr th {\n",
       "        vertical-align: top;\n",
       "    }\n",
       "\n",
       "    .dataframe thead th {\n",
       "        text-align: right;\n",
       "    }\n",
       "</style>\n",
       "<table border=\"1\" class=\"dataframe\">\n",
       "  <thead>\n",
       "    <tr style=\"text-align: right;\">\n",
       "      <th></th>\n",
       "      <th>Researcher location</th>\n",
       "      <th>Number of Datasets</th>\n",
       "      <th>CODEE</th>\n",
       "      <th>CODE</th>\n",
       "    </tr>\n",
       "  </thead>\n",
       "  <tbody>\n",
       "    <tr>\n",
       "      <th>0</th>\n",
       "      <td>USA</td>\n",
       "      <td>135</td>\n",
       "      <td>USA</td>\n",
       "      <td>USA</td>\n",
       "    </tr>\n",
       "    <tr>\n",
       "      <th>1</th>\n",
       "      <td>India</td>\n",
       "      <td>57</td>\n",
       "      <td>IND</td>\n",
       "      <td>IND</td>\n",
       "    </tr>\n",
       "    <tr>\n",
       "      <th>2</th>\n",
       "      <td>UK</td>\n",
       "      <td>57</td>\n",
       "      <td>GBR</td>\n",
       "      <td>GBR</td>\n",
       "    </tr>\n",
       "    <tr>\n",
       "      <th>3</th>\n",
       "      <td>Germany</td>\n",
       "      <td>32</td>\n",
       "      <td>DEU</td>\n",
       "      <td>DEU</td>\n",
       "    </tr>\n",
       "    <tr>\n",
       "      <th>4</th>\n",
       "      <td>Italy</td>\n",
       "      <td>32</td>\n",
       "      <td>ITA</td>\n",
       "      <td>ITA</td>\n",
       "    </tr>\n",
       "  </tbody>\n",
       "</table>\n",
       "</div>"
      ],
      "text/plain": [
       "  Researcher location  Number of Datasets CODEE CODE\n",
       "0                 USA                 135   USA  USA\n",
       "1               India                  57   IND  IND\n",
       "2                  UK                  57   GBR  GBR\n",
       "3             Germany                  32   DEU  DEU\n",
       "4               Italy                  32   ITA  ITA"
      ]
     },
     "execution_count": 775,
     "metadata": {},
     "output_type": "execute_result"
    }
   ],
   "source": [
    "import pycountry \n",
    "def alpha3codee(column):\n",
    "    CODEE=[]\n",
    "    for country in column:\n",
    "        try:\n",
    "            codee=pycountry.countries.get(name=country).alpha_3\n",
    "           # .alpha_3 means 3-letter country code \n",
    "           # .alpha_2 means 2-letter country code\n",
    "            CODEE.append(codee)\n",
    "        except:\n",
    "            CODEE.append(country)\n",
    "    return CODEE\n",
    "\n",
    "# create a column for code \n",
    "countries_df['CODEE']=alpha3codee(countries_df['Researcher location'])\n",
    "countries_df['Researcher location']=countries_df['Researcher location'].replace(['Saudi\\xa0Arabia'],'Saudi Arabia')\n",
    "countries_df['CODEE'] = countries_df['CODEE'].replace(['UK', 'Saudi Arabia', 'Russia', 'South Korea', 'Vietnam', 'Taiwan', 'Hong Kong SAR'],['GBR','SAU','RUS','KOR','VNM','TWN','HKG'])\n",
    "#rlc['CODE'] = rlc['CODE'].replace(['Saudi Arabia'],'SA')\n",
    "\n",
    "countries_df.head()"
   ]
  },
  {
   "cell_type": "code",
   "execution_count": 797,
   "id": "972854b6",
   "metadata": {},
   "outputs": [
    {
     "data": {
      "application/vnd.plotly.v1+json": {
       "config": {
        "plotlyServerURL": "https://plot.ly"
       },
       "data": [
        {
         "coloraxis": "coloraxis",
         "geo": "geo",
         "hovertemplate": "<b>%{hovertext}</b><br><br>CODEE=%{location}<br>Number of Datasets=%{z}<extra></extra>",
         "hovertext": [
          "USA",
          "India",
          "UK",
          "Germany",
          "Italy",
          "Canada",
          "Saudi Arabia",
          "Bangladesh",
          "Spain",
          "Russia",
          "France",
          "Qatar",
          "Ireland",
          "Greece",
          "Indonesia",
          "Pakistan",
          "Finland",
          "Mexico",
          "China",
          "Turkey",
          "Belgium",
          "Brazil",
          "South Korea",
          "Ecuador",
          "Australia",
          "Croatia",
          "Egypt",
          "Netherlands",
          "Denmark",
          "Cyprus",
          "Israel",
          "Norway",
          "Romania",
          "Taiwan",
          "Tunisia",
          "Sweden",
          "Japan",
          "Jordan",
          "Hong Kong SAR",
          "Malaysia"
         ],
         "locationmode": "ISO-3",
         "locations": [
          "USA",
          "IND",
          "GBR",
          "DEU",
          "ITA",
          "CAN",
          "SAU",
          "BGD",
          "ESP",
          "RUS",
          "FRA",
          "QAT",
          "IRL",
          "GRC",
          "IDN",
          "PAK",
          "FIN",
          "MEX",
          "CHN",
          "TUR",
          "BEL",
          "BRA",
          "KOR",
          "ECU",
          "AUS",
          "HRV",
          "EGY",
          "NLD",
          "DNK",
          "CYP",
          "ISR",
          "NOR",
          "ROU",
          "TWN",
          "TUN",
          "SWE",
          "JPN",
          "JOR",
          "HKG",
          "MYS"
         ],
         "marker": {
          "line": {
           "color": "white",
           "width": 0.5
          }
         },
         "name": "",
         "type": "choropleth",
         "z": [
          135,
          57,
          57,
          32,
          32,
          20,
          18,
          16,
          16,
          16,
          15,
          14,
          13,
          12,
          12,
          10,
          10,
          10,
          10,
          8,
          7,
          7,
          7,
          7,
          6,
          6,
          6,
          6,
          5,
          5,
          5,
          5,
          5,
          5,
          4,
          4,
          4,
          3,
          3,
          3
         ]
        }
       ],
       "layout": {
        "coloraxis": {
         "colorbar": {
          "len": 0.4,
          "thickness": 15,
          "tickfont": {
           "size": 30
          },
          "title": {
           "text": "Number of Datasets"
          },
          "x": 0.02,
          "xanchor": "left",
          "y": 0.3,
          "yanchor": "middle"
         },
         "colorscale": [
          [
           0,
           "rgb(247, 254, 174)"
          ],
          [
           0.16666666666666666,
           "rgb(183, 230, 165)"
          ],
          [
           0.3333333333333333,
           "rgb(124, 203, 162)"
          ],
          [
           0.5,
           "rgb(70, 174, 160)"
          ],
          [
           0.6666666666666666,
           "rgb(8, 144, 153)"
          ],
          [
           0.8333333333333334,
           "rgb(0, 113, 139)"
          ],
          [
           1,
           "rgb(4, 82, 117)"
          ]
         ]
        },
        "geo": {
         "center": {},
         "domain": {
          "x": [
           0,
           1
          ],
          "y": [
           0,
           1
          ]
         },
         "projection": {
          "type": "equirectangular"
         },
         "showcoastlines": false,
         "showframe": false
        },
        "legend": {
         "tracegroupgap": 0
        },
        "margin": {
         "t": 60
        },
        "template": {
         "data": {
          "bar": [
           {
            "error_x": {
             "color": "#2a3f5f"
            },
            "error_y": {
             "color": "#2a3f5f"
            },
            "marker": {
             "line": {
              "color": "#E5ECF6",
              "width": 0.5
             },
             "pattern": {
              "fillmode": "overlay",
              "size": 10,
              "solidity": 0.2
             }
            },
            "type": "bar"
           }
          ],
          "barpolar": [
           {
            "marker": {
             "line": {
              "color": "#E5ECF6",
              "width": 0.5
             },
             "pattern": {
              "fillmode": "overlay",
              "size": 10,
              "solidity": 0.2
             }
            },
            "type": "barpolar"
           }
          ],
          "carpet": [
           {
            "aaxis": {
             "endlinecolor": "#2a3f5f",
             "gridcolor": "white",
             "linecolor": "white",
             "minorgridcolor": "white",
             "startlinecolor": "#2a3f5f"
            },
            "baxis": {
             "endlinecolor": "#2a3f5f",
             "gridcolor": "white",
             "linecolor": "white",
             "minorgridcolor": "white",
             "startlinecolor": "#2a3f5f"
            },
            "type": "carpet"
           }
          ],
          "choropleth": [
           {
            "colorbar": {
             "outlinewidth": 0,
             "ticks": ""
            },
            "type": "choropleth"
           }
          ],
          "contour": [
           {
            "colorbar": {
             "outlinewidth": 0,
             "ticks": ""
            },
            "colorscale": [
             [
              0,
              "#0d0887"
             ],
             [
              0.1111111111111111,
              "#46039f"
             ],
             [
              0.2222222222222222,
              "#7201a8"
             ],
             [
              0.3333333333333333,
              "#9c179e"
             ],
             [
              0.4444444444444444,
              "#bd3786"
             ],
             [
              0.5555555555555556,
              "#d8576b"
             ],
             [
              0.6666666666666666,
              "#ed7953"
             ],
             [
              0.7777777777777778,
              "#fb9f3a"
             ],
             [
              0.8888888888888888,
              "#fdca26"
             ],
             [
              1,
              "#f0f921"
             ]
            ],
            "type": "contour"
           }
          ],
          "contourcarpet": [
           {
            "colorbar": {
             "outlinewidth": 0,
             "ticks": ""
            },
            "type": "contourcarpet"
           }
          ],
          "heatmap": [
           {
            "colorbar": {
             "outlinewidth": 0,
             "ticks": ""
            },
            "colorscale": [
             [
              0,
              "#0d0887"
             ],
             [
              0.1111111111111111,
              "#46039f"
             ],
             [
              0.2222222222222222,
              "#7201a8"
             ],
             [
              0.3333333333333333,
              "#9c179e"
             ],
             [
              0.4444444444444444,
              "#bd3786"
             ],
             [
              0.5555555555555556,
              "#d8576b"
             ],
             [
              0.6666666666666666,
              "#ed7953"
             ],
             [
              0.7777777777777778,
              "#fb9f3a"
             ],
             [
              0.8888888888888888,
              "#fdca26"
             ],
             [
              1,
              "#f0f921"
             ]
            ],
            "type": "heatmap"
           }
          ],
          "heatmapgl": [
           {
            "colorbar": {
             "outlinewidth": 0,
             "ticks": ""
            },
            "colorscale": [
             [
              0,
              "#0d0887"
             ],
             [
              0.1111111111111111,
              "#46039f"
             ],
             [
              0.2222222222222222,
              "#7201a8"
             ],
             [
              0.3333333333333333,
              "#9c179e"
             ],
             [
              0.4444444444444444,
              "#bd3786"
             ],
             [
              0.5555555555555556,
              "#d8576b"
             ],
             [
              0.6666666666666666,
              "#ed7953"
             ],
             [
              0.7777777777777778,
              "#fb9f3a"
             ],
             [
              0.8888888888888888,
              "#fdca26"
             ],
             [
              1,
              "#f0f921"
             ]
            ],
            "type": "heatmapgl"
           }
          ],
          "histogram": [
           {
            "marker": {
             "pattern": {
              "fillmode": "overlay",
              "size": 10,
              "solidity": 0.2
             }
            },
            "type": "histogram"
           }
          ],
          "histogram2d": [
           {
            "colorbar": {
             "outlinewidth": 0,
             "ticks": ""
            },
            "colorscale": [
             [
              0,
              "#0d0887"
             ],
             [
              0.1111111111111111,
              "#46039f"
             ],
             [
              0.2222222222222222,
              "#7201a8"
             ],
             [
              0.3333333333333333,
              "#9c179e"
             ],
             [
              0.4444444444444444,
              "#bd3786"
             ],
             [
              0.5555555555555556,
              "#d8576b"
             ],
             [
              0.6666666666666666,
              "#ed7953"
             ],
             [
              0.7777777777777778,
              "#fb9f3a"
             ],
             [
              0.8888888888888888,
              "#fdca26"
             ],
             [
              1,
              "#f0f921"
             ]
            ],
            "type": "histogram2d"
           }
          ],
          "histogram2dcontour": [
           {
            "colorbar": {
             "outlinewidth": 0,
             "ticks": ""
            },
            "colorscale": [
             [
              0,
              "#0d0887"
             ],
             [
              0.1111111111111111,
              "#46039f"
             ],
             [
              0.2222222222222222,
              "#7201a8"
             ],
             [
              0.3333333333333333,
              "#9c179e"
             ],
             [
              0.4444444444444444,
              "#bd3786"
             ],
             [
              0.5555555555555556,
              "#d8576b"
             ],
             [
              0.6666666666666666,
              "#ed7953"
             ],
             [
              0.7777777777777778,
              "#fb9f3a"
             ],
             [
              0.8888888888888888,
              "#fdca26"
             ],
             [
              1,
              "#f0f921"
             ]
            ],
            "type": "histogram2dcontour"
           }
          ],
          "mesh3d": [
           {
            "colorbar": {
             "outlinewidth": 0,
             "ticks": ""
            },
            "type": "mesh3d"
           }
          ],
          "parcoords": [
           {
            "line": {
             "colorbar": {
              "outlinewidth": 0,
              "ticks": ""
             }
            },
            "type": "parcoords"
           }
          ],
          "pie": [
           {
            "automargin": true,
            "type": "pie"
           }
          ],
          "scatter": [
           {
            "marker": {
             "colorbar": {
              "outlinewidth": 0,
              "ticks": ""
             }
            },
            "type": "scatter"
           }
          ],
          "scatter3d": [
           {
            "line": {
             "colorbar": {
              "outlinewidth": 0,
              "ticks": ""
             }
            },
            "marker": {
             "colorbar": {
              "outlinewidth": 0,
              "ticks": ""
             }
            },
            "type": "scatter3d"
           }
          ],
          "scattercarpet": [
           {
            "marker": {
             "colorbar": {
              "outlinewidth": 0,
              "ticks": ""
             }
            },
            "type": "scattercarpet"
           }
          ],
          "scattergeo": [
           {
            "marker": {
             "colorbar": {
              "outlinewidth": 0,
              "ticks": ""
             }
            },
            "type": "scattergeo"
           }
          ],
          "scattergl": [
           {
            "marker": {
             "colorbar": {
              "outlinewidth": 0,
              "ticks": ""
             }
            },
            "type": "scattergl"
           }
          ],
          "scattermapbox": [
           {
            "marker": {
             "colorbar": {
              "outlinewidth": 0,
              "ticks": ""
             }
            },
            "type": "scattermapbox"
           }
          ],
          "scatterpolar": [
           {
            "marker": {
             "colorbar": {
              "outlinewidth": 0,
              "ticks": ""
             }
            },
            "type": "scatterpolar"
           }
          ],
          "scatterpolargl": [
           {
            "marker": {
             "colorbar": {
              "outlinewidth": 0,
              "ticks": ""
             }
            },
            "type": "scatterpolargl"
           }
          ],
          "scatterternary": [
           {
            "marker": {
             "colorbar": {
              "outlinewidth": 0,
              "ticks": ""
             }
            },
            "type": "scatterternary"
           }
          ],
          "surface": [
           {
            "colorbar": {
             "outlinewidth": 0,
             "ticks": ""
            },
            "colorscale": [
             [
              0,
              "#0d0887"
             ],
             [
              0.1111111111111111,
              "#46039f"
             ],
             [
              0.2222222222222222,
              "#7201a8"
             ],
             [
              0.3333333333333333,
              "#9c179e"
             ],
             [
              0.4444444444444444,
              "#bd3786"
             ],
             [
              0.5555555555555556,
              "#d8576b"
             ],
             [
              0.6666666666666666,
              "#ed7953"
             ],
             [
              0.7777777777777778,
              "#fb9f3a"
             ],
             [
              0.8888888888888888,
              "#fdca26"
             ],
             [
              1,
              "#f0f921"
             ]
            ],
            "type": "surface"
           }
          ],
          "table": [
           {
            "cells": {
             "fill": {
              "color": "#EBF0F8"
             },
             "line": {
              "color": "white"
             }
            },
            "header": {
             "fill": {
              "color": "#C8D4E3"
             },
             "line": {
              "color": "white"
             }
            },
            "type": "table"
           }
          ]
         },
         "layout": {
          "annotationdefaults": {
           "arrowcolor": "#2a3f5f",
           "arrowhead": 0,
           "arrowwidth": 1
          },
          "autotypenumbers": "strict",
          "coloraxis": {
           "colorbar": {
            "outlinewidth": 0,
            "ticks": ""
           }
          },
          "colorscale": {
           "diverging": [
            [
             0,
             "#8e0152"
            ],
            [
             0.1,
             "#c51b7d"
            ],
            [
             0.2,
             "#de77ae"
            ],
            [
             0.3,
             "#f1b6da"
            ],
            [
             0.4,
             "#fde0ef"
            ],
            [
             0.5,
             "#f7f7f7"
            ],
            [
             0.6,
             "#e6f5d0"
            ],
            [
             0.7,
             "#b8e186"
            ],
            [
             0.8,
             "#7fbc41"
            ],
            [
             0.9,
             "#4d9221"
            ],
            [
             1,
             "#276419"
            ]
           ],
           "sequential": [
            [
             0,
             "#0d0887"
            ],
            [
             0.1111111111111111,
             "#46039f"
            ],
            [
             0.2222222222222222,
             "#7201a8"
            ],
            [
             0.3333333333333333,
             "#9c179e"
            ],
            [
             0.4444444444444444,
             "#bd3786"
            ],
            [
             0.5555555555555556,
             "#d8576b"
            ],
            [
             0.6666666666666666,
             "#ed7953"
            ],
            [
             0.7777777777777778,
             "#fb9f3a"
            ],
            [
             0.8888888888888888,
             "#fdca26"
            ],
            [
             1,
             "#f0f921"
            ]
           ],
           "sequentialminus": [
            [
             0,
             "#0d0887"
            ],
            [
             0.1111111111111111,
             "#46039f"
            ],
            [
             0.2222222222222222,
             "#7201a8"
            ],
            [
             0.3333333333333333,
             "#9c179e"
            ],
            [
             0.4444444444444444,
             "#bd3786"
            ],
            [
             0.5555555555555556,
             "#d8576b"
            ],
            [
             0.6666666666666666,
             "#ed7953"
            ],
            [
             0.7777777777777778,
             "#fb9f3a"
            ],
            [
             0.8888888888888888,
             "#fdca26"
            ],
            [
             1,
             "#f0f921"
            ]
           ]
          },
          "colorway": [
           "#636efa",
           "#EF553B",
           "#00cc96",
           "#ab63fa",
           "#FFA15A",
           "#19d3f3",
           "#FF6692",
           "#B6E880",
           "#FF97FF",
           "#FECB52"
          ],
          "font": {
           "color": "#2a3f5f"
          },
          "geo": {
           "bgcolor": "white",
           "lakecolor": "white",
           "landcolor": "#E5ECF6",
           "showlakes": true,
           "showland": true,
           "subunitcolor": "white"
          },
          "hoverlabel": {
           "align": "left"
          },
          "hovermode": "closest",
          "mapbox": {
           "style": "light"
          },
          "paper_bgcolor": "white",
          "plot_bgcolor": "#E5ECF6",
          "polar": {
           "angularaxis": {
            "gridcolor": "white",
            "linecolor": "white",
            "ticks": ""
           },
           "bgcolor": "#E5ECF6",
           "radialaxis": {
            "gridcolor": "white",
            "linecolor": "white",
            "ticks": ""
           }
          },
          "scene": {
           "xaxis": {
            "backgroundcolor": "#E5ECF6",
            "gridcolor": "white",
            "gridwidth": 2,
            "linecolor": "white",
            "showbackground": true,
            "ticks": "",
            "zerolinecolor": "white"
           },
           "yaxis": {
            "backgroundcolor": "#E5ECF6",
            "gridcolor": "white",
            "gridwidth": 2,
            "linecolor": "white",
            "showbackground": true,
            "ticks": "",
            "zerolinecolor": "white"
           },
           "zaxis": {
            "backgroundcolor": "#E5ECF6",
            "gridcolor": "white",
            "gridwidth": 2,
            "linecolor": "white",
            "showbackground": true,
            "ticks": "",
            "zerolinecolor": "white"
           }
          },
          "shapedefaults": {
           "line": {
            "color": "#2a3f5f"
           }
          },
          "ternary": {
           "aaxis": {
            "gridcolor": "white",
            "linecolor": "white",
            "ticks": ""
           },
           "baxis": {
            "gridcolor": "white",
            "linecolor": "white",
            "ticks": ""
           },
           "bgcolor": "#E5ECF6",
           "caxis": {
            "gridcolor": "white",
            "linecolor": "white",
            "ticks": ""
           }
          },
          "title": {
           "x": 0.05
          },
          "xaxis": {
           "automargin": true,
           "gridcolor": "white",
           "linecolor": "white",
           "ticks": "",
           "title": {
            "standoff": 15
           },
           "zerolinecolor": "white",
           "zerolinewidth": 2
          },
          "yaxis": {
           "automargin": true,
           "gridcolor": "white",
           "linecolor": "white",
           "ticks": "",
           "title": {
            "standoff": 15
           },
           "zerolinecolor": "white",
           "zerolinewidth": 2
          }
         }
        }
       }
      },
      "text/html": [
       "<div>                            <div id=\"9f5c9b36-7543-49d5-a41a-c88b23a1314c\" class=\"plotly-graph-div\" style=\"height:525px; width:100%;\"></div>            <script type=\"text/javascript\">                require([\"plotly\"], function(Plotly) {                    window.PLOTLYENV=window.PLOTLYENV || {};                                    if (document.getElementById(\"9f5c9b36-7543-49d5-a41a-c88b23a1314c\")) {                    Plotly.newPlot(                        \"9f5c9b36-7543-49d5-a41a-c88b23a1314c\",                        [{\"coloraxis\":\"coloraxis\",\"geo\":\"geo\",\"hovertemplate\":\"<b>%{hovertext}</b><br><br>CODEE=%{location}<br>Number of Datasets=%{z}<extra></extra>\",\"hovertext\":[\"USA\",\"India\",\"UK\",\"Germany\",\"Italy\",\"Canada\",\"Saudi Arabia\",\"Bangladesh\",\"Spain\",\"Russia\",\"France\",\"Qatar\",\"Ireland\",\"Greece\",\"Indonesia\",\"Pakistan\",\"Finland\",\"Mexico\",\"China\",\"Turkey\",\"Belgium\",\"Brazil\",\"South Korea\",\"Ecuador\",\"Australia\",\"Croatia\",\"Egypt\",\"Netherlands\",\"Denmark\",\"Cyprus\",\"Israel\",\"Norway\",\"Romania\",\"Taiwan\",\"Tunisia\",\"Sweden\",\"Japan\",\"Jordan\",\"Hong Kong SAR\",\"Malaysia\"],\"locationmode\":\"ISO-3\",\"locations\":[\"USA\",\"IND\",\"GBR\",\"DEU\",\"ITA\",\"CAN\",\"SAU\",\"BGD\",\"ESP\",\"RUS\",\"FRA\",\"QAT\",\"IRL\",\"GRC\",\"IDN\",\"PAK\",\"FIN\",\"MEX\",\"CHN\",\"TUR\",\"BEL\",\"BRA\",\"KOR\",\"ECU\",\"AUS\",\"HRV\",\"EGY\",\"NLD\",\"DNK\",\"CYP\",\"ISR\",\"NOR\",\"ROU\",\"TWN\",\"TUN\",\"SWE\",\"JPN\",\"JOR\",\"HKG\",\"MYS\"],\"name\":\"\",\"z\":[135,57,57,32,32,20,18,16,16,16,15,14,13,12,12,10,10,10,10,8,7,7,7,7,6,6,6,6,5,5,5,5,5,5,4,4,4,3,3,3],\"type\":\"choropleth\",\"marker\":{\"line\":{\"color\":\"white\",\"width\":0.5}}}],                        {\"template\":{\"data\":{\"bar\":[{\"error_x\":{\"color\":\"#2a3f5f\"},\"error_y\":{\"color\":\"#2a3f5f\"},\"marker\":{\"line\":{\"color\":\"#E5ECF6\",\"width\":0.5},\"pattern\":{\"fillmode\":\"overlay\",\"size\":10,\"solidity\":0.2}},\"type\":\"bar\"}],\"barpolar\":[{\"marker\":{\"line\":{\"color\":\"#E5ECF6\",\"width\":0.5},\"pattern\":{\"fillmode\":\"overlay\",\"size\":10,\"solidity\":0.2}},\"type\":\"barpolar\"}],\"carpet\":[{\"aaxis\":{\"endlinecolor\":\"#2a3f5f\",\"gridcolor\":\"white\",\"linecolor\":\"white\",\"minorgridcolor\":\"white\",\"startlinecolor\":\"#2a3f5f\"},\"baxis\":{\"endlinecolor\":\"#2a3f5f\",\"gridcolor\":\"white\",\"linecolor\":\"white\",\"minorgridcolor\":\"white\",\"startlinecolor\":\"#2a3f5f\"},\"type\":\"carpet\"}],\"choropleth\":[{\"colorbar\":{\"outlinewidth\":0,\"ticks\":\"\"},\"type\":\"choropleth\"}],\"contour\":[{\"colorbar\":{\"outlinewidth\":0,\"ticks\":\"\"},\"colorscale\":[[0.0,\"#0d0887\"],[0.1111111111111111,\"#46039f\"],[0.2222222222222222,\"#7201a8\"],[0.3333333333333333,\"#9c179e\"],[0.4444444444444444,\"#bd3786\"],[0.5555555555555556,\"#d8576b\"],[0.6666666666666666,\"#ed7953\"],[0.7777777777777778,\"#fb9f3a\"],[0.8888888888888888,\"#fdca26\"],[1.0,\"#f0f921\"]],\"type\":\"contour\"}],\"contourcarpet\":[{\"colorbar\":{\"outlinewidth\":0,\"ticks\":\"\"},\"type\":\"contourcarpet\"}],\"heatmap\":[{\"colorbar\":{\"outlinewidth\":0,\"ticks\":\"\"},\"colorscale\":[[0.0,\"#0d0887\"],[0.1111111111111111,\"#46039f\"],[0.2222222222222222,\"#7201a8\"],[0.3333333333333333,\"#9c179e\"],[0.4444444444444444,\"#bd3786\"],[0.5555555555555556,\"#d8576b\"],[0.6666666666666666,\"#ed7953\"],[0.7777777777777778,\"#fb9f3a\"],[0.8888888888888888,\"#fdca26\"],[1.0,\"#f0f921\"]],\"type\":\"heatmap\"}],\"heatmapgl\":[{\"colorbar\":{\"outlinewidth\":0,\"ticks\":\"\"},\"colorscale\":[[0.0,\"#0d0887\"],[0.1111111111111111,\"#46039f\"],[0.2222222222222222,\"#7201a8\"],[0.3333333333333333,\"#9c179e\"],[0.4444444444444444,\"#bd3786\"],[0.5555555555555556,\"#d8576b\"],[0.6666666666666666,\"#ed7953\"],[0.7777777777777778,\"#fb9f3a\"],[0.8888888888888888,\"#fdca26\"],[1.0,\"#f0f921\"]],\"type\":\"heatmapgl\"}],\"histogram\":[{\"marker\":{\"pattern\":{\"fillmode\":\"overlay\",\"size\":10,\"solidity\":0.2}},\"type\":\"histogram\"}],\"histogram2d\":[{\"colorbar\":{\"outlinewidth\":0,\"ticks\":\"\"},\"colorscale\":[[0.0,\"#0d0887\"],[0.1111111111111111,\"#46039f\"],[0.2222222222222222,\"#7201a8\"],[0.3333333333333333,\"#9c179e\"],[0.4444444444444444,\"#bd3786\"],[0.5555555555555556,\"#d8576b\"],[0.6666666666666666,\"#ed7953\"],[0.7777777777777778,\"#fb9f3a\"],[0.8888888888888888,\"#fdca26\"],[1.0,\"#f0f921\"]],\"type\":\"histogram2d\"}],\"histogram2dcontour\":[{\"colorbar\":{\"outlinewidth\":0,\"ticks\":\"\"},\"colorscale\":[[0.0,\"#0d0887\"],[0.1111111111111111,\"#46039f\"],[0.2222222222222222,\"#7201a8\"],[0.3333333333333333,\"#9c179e\"],[0.4444444444444444,\"#bd3786\"],[0.5555555555555556,\"#d8576b\"],[0.6666666666666666,\"#ed7953\"],[0.7777777777777778,\"#fb9f3a\"],[0.8888888888888888,\"#fdca26\"],[1.0,\"#f0f921\"]],\"type\":\"histogram2dcontour\"}],\"mesh3d\":[{\"colorbar\":{\"outlinewidth\":0,\"ticks\":\"\"},\"type\":\"mesh3d\"}],\"parcoords\":[{\"line\":{\"colorbar\":{\"outlinewidth\":0,\"ticks\":\"\"}},\"type\":\"parcoords\"}],\"pie\":[{\"automargin\":true,\"type\":\"pie\"}],\"scatter\":[{\"marker\":{\"colorbar\":{\"outlinewidth\":0,\"ticks\":\"\"}},\"type\":\"scatter\"}],\"scatter3d\":[{\"line\":{\"colorbar\":{\"outlinewidth\":0,\"ticks\":\"\"}},\"marker\":{\"colorbar\":{\"outlinewidth\":0,\"ticks\":\"\"}},\"type\":\"scatter3d\"}],\"scattercarpet\":[{\"marker\":{\"colorbar\":{\"outlinewidth\":0,\"ticks\":\"\"}},\"type\":\"scattercarpet\"}],\"scattergeo\":[{\"marker\":{\"colorbar\":{\"outlinewidth\":0,\"ticks\":\"\"}},\"type\":\"scattergeo\"}],\"scattergl\":[{\"marker\":{\"colorbar\":{\"outlinewidth\":0,\"ticks\":\"\"}},\"type\":\"scattergl\"}],\"scattermapbox\":[{\"marker\":{\"colorbar\":{\"outlinewidth\":0,\"ticks\":\"\"}},\"type\":\"scattermapbox\"}],\"scatterpolar\":[{\"marker\":{\"colorbar\":{\"outlinewidth\":0,\"ticks\":\"\"}},\"type\":\"scatterpolar\"}],\"scatterpolargl\":[{\"marker\":{\"colorbar\":{\"outlinewidth\":0,\"ticks\":\"\"}},\"type\":\"scatterpolargl\"}],\"scatterternary\":[{\"marker\":{\"colorbar\":{\"outlinewidth\":0,\"ticks\":\"\"}},\"type\":\"scatterternary\"}],\"surface\":[{\"colorbar\":{\"outlinewidth\":0,\"ticks\":\"\"},\"colorscale\":[[0.0,\"#0d0887\"],[0.1111111111111111,\"#46039f\"],[0.2222222222222222,\"#7201a8\"],[0.3333333333333333,\"#9c179e\"],[0.4444444444444444,\"#bd3786\"],[0.5555555555555556,\"#d8576b\"],[0.6666666666666666,\"#ed7953\"],[0.7777777777777778,\"#fb9f3a\"],[0.8888888888888888,\"#fdca26\"],[1.0,\"#f0f921\"]],\"type\":\"surface\"}],\"table\":[{\"cells\":{\"fill\":{\"color\":\"#EBF0F8\"},\"line\":{\"color\":\"white\"}},\"header\":{\"fill\":{\"color\":\"#C8D4E3\"},\"line\":{\"color\":\"white\"}},\"type\":\"table\"}]},\"layout\":{\"annotationdefaults\":{\"arrowcolor\":\"#2a3f5f\",\"arrowhead\":0,\"arrowwidth\":1},\"autotypenumbers\":\"strict\",\"coloraxis\":{\"colorbar\":{\"outlinewidth\":0,\"ticks\":\"\"}},\"colorscale\":{\"diverging\":[[0,\"#8e0152\"],[0.1,\"#c51b7d\"],[0.2,\"#de77ae\"],[0.3,\"#f1b6da\"],[0.4,\"#fde0ef\"],[0.5,\"#f7f7f7\"],[0.6,\"#e6f5d0\"],[0.7,\"#b8e186\"],[0.8,\"#7fbc41\"],[0.9,\"#4d9221\"],[1,\"#276419\"]],\"sequential\":[[0.0,\"#0d0887\"],[0.1111111111111111,\"#46039f\"],[0.2222222222222222,\"#7201a8\"],[0.3333333333333333,\"#9c179e\"],[0.4444444444444444,\"#bd3786\"],[0.5555555555555556,\"#d8576b\"],[0.6666666666666666,\"#ed7953\"],[0.7777777777777778,\"#fb9f3a\"],[0.8888888888888888,\"#fdca26\"],[1.0,\"#f0f921\"]],\"sequentialminus\":[[0.0,\"#0d0887\"],[0.1111111111111111,\"#46039f\"],[0.2222222222222222,\"#7201a8\"],[0.3333333333333333,\"#9c179e\"],[0.4444444444444444,\"#bd3786\"],[0.5555555555555556,\"#d8576b\"],[0.6666666666666666,\"#ed7953\"],[0.7777777777777778,\"#fb9f3a\"],[0.8888888888888888,\"#fdca26\"],[1.0,\"#f0f921\"]]},\"colorway\":[\"#636efa\",\"#EF553B\",\"#00cc96\",\"#ab63fa\",\"#FFA15A\",\"#19d3f3\",\"#FF6692\",\"#B6E880\",\"#FF97FF\",\"#FECB52\"],\"font\":{\"color\":\"#2a3f5f\"},\"geo\":{\"bgcolor\":\"white\",\"lakecolor\":\"white\",\"landcolor\":\"#E5ECF6\",\"showlakes\":true,\"showland\":true,\"subunitcolor\":\"white\"},\"hoverlabel\":{\"align\":\"left\"},\"hovermode\":\"closest\",\"mapbox\":{\"style\":\"light\"},\"paper_bgcolor\":\"white\",\"plot_bgcolor\":\"#E5ECF6\",\"polar\":{\"angularaxis\":{\"gridcolor\":\"white\",\"linecolor\":\"white\",\"ticks\":\"\"},\"bgcolor\":\"#E5ECF6\",\"radialaxis\":{\"gridcolor\":\"white\",\"linecolor\":\"white\",\"ticks\":\"\"}},\"scene\":{\"xaxis\":{\"backgroundcolor\":\"#E5ECF6\",\"gridcolor\":\"white\",\"gridwidth\":2,\"linecolor\":\"white\",\"showbackground\":true,\"ticks\":\"\",\"zerolinecolor\":\"white\"},\"yaxis\":{\"backgroundcolor\":\"#E5ECF6\",\"gridcolor\":\"white\",\"gridwidth\":2,\"linecolor\":\"white\",\"showbackground\":true,\"ticks\":\"\",\"zerolinecolor\":\"white\"},\"zaxis\":{\"backgroundcolor\":\"#E5ECF6\",\"gridcolor\":\"white\",\"gridwidth\":2,\"linecolor\":\"white\",\"showbackground\":true,\"ticks\":\"\",\"zerolinecolor\":\"white\"}},\"shapedefaults\":{\"line\":{\"color\":\"#2a3f5f\"}},\"ternary\":{\"aaxis\":{\"gridcolor\":\"white\",\"linecolor\":\"white\",\"ticks\":\"\"},\"baxis\":{\"gridcolor\":\"white\",\"linecolor\":\"white\",\"ticks\":\"\"},\"bgcolor\":\"#E5ECF6\",\"caxis\":{\"gridcolor\":\"white\",\"linecolor\":\"white\",\"ticks\":\"\"}},\"title\":{\"x\":0.05},\"xaxis\":{\"automargin\":true,\"gridcolor\":\"white\",\"linecolor\":\"white\",\"ticks\":\"\",\"title\":{\"standoff\":15},\"zerolinecolor\":\"white\",\"zerolinewidth\":2},\"yaxis\":{\"automargin\":true,\"gridcolor\":\"white\",\"linecolor\":\"white\",\"ticks\":\"\",\"title\":{\"standoff\":15},\"zerolinecolor\":\"white\",\"zerolinewidth\":2}}},\"geo\":{\"domain\":{\"x\":[0.0,1.0],\"y\":[0.0,1.0]},\"center\":{},\"projection\":{\"type\":\"equirectangular\"},\"showframe\":false,\"showcoastlines\":false},\"coloraxis\":{\"colorbar\":{\"title\":{\"text\":\"Number of Datasets\"},\"tickfont\":{\"size\":30},\"len\":0.4,\"thickness\":15,\"xanchor\":\"left\",\"yanchor\":\"middle\",\"x\":0.02,\"y\":0.3},\"colorscale\":[[0.0,\"rgb(247, 254, 174)\"],[0.16666666666666666,\"rgb(183, 230, 165)\"],[0.3333333333333333,\"rgb(124, 203, 162)\"],[0.5,\"rgb(70, 174, 160)\"],[0.6666666666666666,\"rgb(8, 144, 153)\"],[0.8333333333333334,\"rgb(0, 113, 139)\"],[1.0,\"rgb(4, 82, 117)\"]]},\"legend\":{\"tracegroupgap\":0},\"margin\":{\"t\":60}},                        {\"responsive\": true}                    ).then(function(){\n",
       "                            \n",
       "var gd = document.getElementById('9f5c9b36-7543-49d5-a41a-c88b23a1314c');\n",
       "var x = new MutationObserver(function (mutations, observer) {{\n",
       "        var display = window.getComputedStyle(gd).display;\n",
       "        if (!display || display === 'none') {{\n",
       "            console.log([gd, 'removed!']);\n",
       "            Plotly.purge(gd);\n",
       "            observer.disconnect();\n",
       "        }}\n",
       "}});\n",
       "\n",
       "// Listen for the removal of the full notebook cells\n",
       "var notebookContainer = gd.closest('#notebook-container');\n",
       "if (notebookContainer) {{\n",
       "    x.observe(notebookContainer, {childList: true});\n",
       "}}\n",
       "\n",
       "// Listen for the clearing of the current output cell\n",
       "var outputEl = gd.closest('.output');\n",
       "if (outputEl) {{\n",
       "    x.observe(outputEl, {childList: true});\n",
       "}}\n",
       "\n",
       "                        })                };                });            </script>        </div>"
      ]
     },
     "metadata": {},
     "output_type": "display_data"
    }
   ],
   "source": [
    "np.random.seed(12)\n",
    "gapminderr = countries_df\n",
    "gapminderr['counts'] = np.random.uniform(low=100000, high=200000, size=len(gapminderr)).tolist()\n",
    "\n",
    "fig = px.choropleth(gapminderr, locations=\"CODEE\",\n",
    "                    locationmode='ISO-3',\n",
    "                    color=\"Number of Datasets\",\n",
    "                    hover_name=\"Researcher location\",\n",
    "                   color_continuous_scale=px.colors.sequential.Bluyl)\n",
    "                   #title=\"Number of publications\")\n",
    "                    #color_continuous_scale=px.colors.sequential.Viridis_r)\n",
    "fig.update_traces(marker_line_color='white',marker_line_width=0.5)\n",
    "fig.update_layout(geo=dict(\n",
    "        showframe=False,\n",
    "        showcoastlines=False,\n",
    "        projection_type='equirectangular'),\n",
    "        coloraxis_colorbar_len=0.4,\n",
    "        coloraxis_colorbar_thickness=15,\n",
    "        #coloraxis_colorbar_bgcolor=\"white\",\n",
    "        coloraxis_colorbar_xanchor=\"left\",\n",
    "        coloraxis_colorbar_yanchor=\"middle\",\n",
    "        coloraxis_colorbar_x=0.02,\n",
    "        coloraxis_colorbar_y=0.3,\n",
    "        coloraxis_colorbar_tickfont_size=30)\n",
    "\n",
    "fig.show()\n",
    "\n",
    "\n",
    "fig.write_html(file='country_publications.html')"
   ]
  },
  {
   "cell_type": "code",
   "execution_count": null,
   "id": "ba48959b",
   "metadata": {},
   "outputs": [],
   "source": []
  },
  {
   "cell_type": "markdown",
   "id": "3e91cdff",
   "metadata": {},
   "source": [
    "Compare between single vs multiple platforms"
   ]
  },
  {
   "cell_type": "code",
   "execution_count": 630,
   "id": "936889f1",
   "metadata": {},
   "outputs": [
    {
     "data": {
      "text/plain": [
       "50      Twitter\n",
       "51      YouTube\n",
       "52      Twitter\n",
       "53    Wikipedia\n",
       "54      Twitter\n",
       "Name: Data source, dtype: object"
      ]
     },
     "execution_count": 630,
     "metadata": {},
     "output_type": "execute_result"
    }
   ],
   "source": [
    "dh_1['Data source'][50:55]"
   ]
  },
  {
   "cell_type": "code",
   "execution_count": 631,
   "id": "ce8dca0d",
   "metadata": {},
   "outputs": [
    {
     "data": {
      "text/plain": [
       "Data source\n",
       "Twitter       186\n",
       "YouTube        42\n",
       "Facebook       42\n",
       "Reddit         29\n",
       "Wikipedia      17\n",
       "Instagram      12\n",
       "Gab             9\n",
       "Stormfront      5\n",
       "Weibo           3\n",
       "Vkontakte       3\n",
       "Name: count, dtype: int64"
      ]
     },
     "execution_count": 631,
     "metadata": {},
     "output_type": "execute_result"
    }
   ],
   "source": [
    "#Extract platforms from column 'Data source' \n",
    "platform = dh_1['Data source'].str.split(', ').explode().value_counts()\n",
    "platform[:10] "
   ]
  },
  {
   "cell_type": "code",
   "execution_count": 641,
   "id": "10546ec6",
   "metadata": {},
   "outputs": [
    {
     "data": {
      "text/plain": [
       "50    1.0\n",
       "51    1.0\n",
       "52    1.0\n",
       "53    1.0\n",
       "54    1.0\n",
       "Name: platform_nr, dtype: float64"
      ]
     },
     "execution_count": 641,
     "metadata": {},
     "output_type": "execute_result"
    }
   ],
   "source": [
    "#Number of platforms data is from in the research\n",
    "dh_1['platform_nr'] = dh_1['Data source'].str.count(\",\") + 1\n",
    "dh_1['platform_nr'][50:55]"
   ]
  },
  {
   "cell_type": "code",
   "execution_count": 711,
   "id": "462f269e",
   "metadata": {},
   "outputs": [
    {
     "data": {
      "text/plain": [
       "0     1\n",
       "1     1\n",
       "2     1\n",
       "3     1\n",
       "4    2+\n",
       "Name: Number of data sources, dtype: object"
      ]
     },
     "execution_count": 711,
     "metadata": {},
     "output_type": "execute_result"
    }
   ],
   "source": [
    "#Merge more than 2 sources into ≥2\n",
    "\n",
    "def recode(source):\n",
    "    if source >= 2:\n",
    "        return \"2+\"\n",
    "    else:\n",
    "        return \"1\"\n",
    "\n",
    "dh_1['Number of data sources'] = dh_1['platform_nr'].apply(recode)\n",
    "dh_1['Number of data sources'].head()\n"
   ]
  },
  {
   "cell_type": "code",
   "execution_count": 712,
   "id": "c165187a",
   "metadata": {},
   "outputs": [
    {
     "data": {
      "text/plain": [
       "Number of data sources\n",
       "1     253\n",
       "2+     88\n",
       "Name: count, dtype: int64"
      ]
     },
     "execution_count": 712,
     "metadata": {},
     "output_type": "execute_result"
    }
   ],
   "source": [
    "dh_1['Number of data sources'].value_counts() "
   ]
  },
  {
   "cell_type": "code",
   "execution_count": 730,
   "id": "5e088b29",
   "metadata": {},
   "outputs": [
    {
     "data": {
      "image/png": "[encoded data removed]",
      "text/plain": [
       "<Figure size 432x288 with 1 Axes>"
      ]
     },
     "metadata": {
      "needs_background": "light"
     },
     "output_type": "display_data"
    }
   ],
   "source": [
    "p = dh_1.pivot_table(index=dh_1['year'], columns='Number of data sources',values='Number of new datasets', aggfunc='sum')\n",
    "bar = p.plot(kind='bar', stacked=True, color = sns.color_palette())#.legend([\"Multiple sources\",\"Single source\"])\n",
    "#plt.xlabel('Year')\n",
    "plt.xlabel('') \n",
    "bar.get_children()[10].set_alpha(0.5)\n",
    "bar.get_children()[21].set_alpha(0.5)\n",
    "plt.xticks(rotation=0, ha='center')\n",
    "#plt.yscale('log')\n",
    "plt.ylabel('Number of datasets')\n",
    "#plt.show()\n",
    "plt.tight_layout()\n",
    "plt.savefig(\"pubyear_sources.pdf\", dpi = 400)"
   ]
  },
  {
   "cell_type": "code",
   "execution_count": 714,
   "id": "7e076d71",
   "metadata": {},
   "outputs": [
    {
     "data": {
      "text/html": [
       "<svg  width=\"550\" height=\"55\"><rect x=\"0\" y=\"0\" width=\"55\" height=\"55\" style=\"fill:#1f77b4;stroke-width:2;stroke:rgb(255,255,255)\"/><rect x=\"55\" y=\"0\" width=\"55\" height=\"55\" style=\"fill:#ff7f0e;stroke-width:2;stroke:rgb(255,255,255)\"/><rect x=\"110\" y=\"0\" width=\"55\" height=\"55\" style=\"fill:#2ca02c;stroke-width:2;stroke:rgb(255,255,255)\"/><rect x=\"165\" y=\"0\" width=\"55\" height=\"55\" style=\"fill:#d62728;stroke-width:2;stroke:rgb(255,255,255)\"/><rect x=\"220\" y=\"0\" width=\"55\" height=\"55\" style=\"fill:#9467bd;stroke-width:2;stroke:rgb(255,255,255)\"/><rect x=\"275\" y=\"0\" width=\"55\" height=\"55\" style=\"fill:#8c564b;stroke-width:2;stroke:rgb(255,255,255)\"/><rect x=\"330\" y=\"0\" width=\"55\" height=\"55\" style=\"fill:#e377c2;stroke-width:2;stroke:rgb(255,255,255)\"/><rect x=\"385\" y=\"0\" width=\"55\" height=\"55\" style=\"fill:#7f7f7f;stroke-width:2;stroke:rgb(255,255,255)\"/><rect x=\"440\" y=\"0\" width=\"55\" height=\"55\" style=\"fill:#bcbd22;stroke-width:2;stroke:rgb(255,255,255)\"/><rect x=\"495\" y=\"0\" width=\"55\" height=\"55\" style=\"fill:#17becf;stroke-width:2;stroke:rgb(255,255,255)\"/></svg>"
      ],
      "text/plain": [
       "[(0.12156862745098039, 0.4666666666666667, 0.7058823529411765),\n",
       " (1.0, 0.4980392156862745, 0.054901960784313725),\n",
       " (0.17254901960784313, 0.6274509803921569, 0.17254901960784313),\n",
       " (0.8392156862745098, 0.15294117647058825, 0.1568627450980392),\n",
       " (0.5803921568627451, 0.403921568627451, 0.7411764705882353),\n",
       " (0.5490196078431373, 0.33725490196078434, 0.29411764705882354),\n",
       " (0.8901960784313725, 0.4666666666666667, 0.7607843137254902),\n",
       " (0.4980392156862745, 0.4980392156862745, 0.4980392156862745),\n",
       " (0.7372549019607844, 0.7411764705882353, 0.13333333333333333),\n",
       " (0.09019607843137255, 0.7450980392156863, 0.8117647058823529)]"
      ]
     },
     "execution_count": 714,
     "metadata": {},
     "output_type": "execute_result"
    }
   ],
   "source": [
    "sns.color_palette()"
   ]
  },
  {
   "cell_type": "code",
   "execution_count": 801,
   "id": "dc21ce5f",
   "metadata": {},
   "outputs": [
    {
     "data": {
      "image/png": "[encoded data removed]",
      "text/plain": [
       "<Figure size 432x288 with 1 Axes>"
      ]
     },
     "metadata": {
      "needs_background": "light"
     },
     "output_type": "display_data"
    }
   ],
   "source": [
    "p = dh_1.pivot_table(index=dh_1['year'], columns='Number of data sources',values='Number of new datasets', aggfunc='sum')\n",
    "baa = p.plot(kind='bar', width = 0.8, color = sns.color_palette())\n",
    "baa.legend(title=\"Data sources\")\n",
    "plt.xlabel('Year')\n",
    "#plt.xlabel('') \n",
    "baa.get_children()[10].set_alpha(0.5)\n",
    "baa.get_children()[21].set_alpha(0.5)\n",
    "plt.xticks(rotation=0, ha='center')\n",
    "#plt.yscale('log')\n",
    "\n",
    "ax, plt.ylabel('Number of datasets')\n",
    "#plt.show()\n",
    "baa.grid(axis='y')\n",
    "baa.set(axisbelow=True)\n",
    "plt.tight_layout()\n",
    "plt.savefig(\"pubyear_sources_n.pdf\", dpi = 400)"
   ]
  },
  {
   "cell_type": "code",
   "execution_count": null,
   "id": "882f32f1",
   "metadata": {},
   "outputs": [],
   "source": []
  },
  {
   "cell_type": "code",
   "execution_count": null,
   "id": "0fd25259",
   "metadata": {},
   "outputs": [],
   "source": []
  }
 ],
 "metadata": {
  "kernelspec": {
   "display_name": "Python 3 (ipykernel)",
   "language": "python",
   "name": "python3"
  },
  "language_info": {
   "codemirror_mode": {
    "name": "ipython",
    "version": 3
   },
   "file_extension": ".py",
   "mimetype": "text/x-python",
   "name": "python",
   "nbconvert_exporter": "python",
   "pygments_lexer": "ipython3",
   "version": "3.9.12"
  }
 },
 "nbformat": 4,
 "nbformat_minor": 5
}
